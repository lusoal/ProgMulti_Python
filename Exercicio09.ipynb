{
 "cells": [
  {
   "cell_type": "markdown",
   "metadata": {},
   "source": [
    "Exercício 09\n",
    "Nome: Lucas Soriano Alves Duarte\n",
    "RA: 81714428"
   ]
  },
  {
   "cell_type": "markdown",
   "metadata": {},
   "source": [
    "1 Faça um Programa que peça o raio de um círculo, calcule e mostre sua área."
   ]
  },
  {
   "cell_type": "code",
   "execution_count": 11,
   "metadata": {},
   "outputs": [
    {
     "name": "stdout",
     "output_type": "stream",
     "text": [
      "Digite o lado do quadrado5\n",
      "Quadrado area 50.0\n"
     ]
    }
   ],
   "source": [
    "lado = float(input(\"Digite o lado do quadrado\"))\n",
    "\n",
    "area_sqrt = (lado * lado) * 2\n",
    "\n",
    "print(\"Quadrado area {}\".format(area_sqrt))"
   ]
  },
  {
   "cell_type": "markdown",
   "metadata": {},
   "source": [
    "3 Faça um Programa que pergunte quanto você ganha por hora e o número de horas\n",
    "trabalhadas no mês. Calcule e mostre o total do seu salário no referido mês."
   ]
  },
  {
   "cell_type": "code",
   "execution_count": 15,
   "metadata": {},
   "outputs": [
    {
     "name": "stdout",
     "output_type": "stream",
     "text": [
      "Quanto voce ganha por hora5\n",
      "Quantidade de horas trabahadas10\n",
      "Total: 50.0\n"
     ]
    }
   ],
   "source": [
    "valor_hora = float(input(\"Quanto voce ganha por hora\"))\n",
    "hora_trab = int(input(\"Quantidade de horas trabahadas\"))\n",
    "\n",
    "print (\"Total: \" + str(valor_hora*hora_trab))"
   ]
  },
  {
   "cell_type": "markdown",
   "metadata": {},
   "source": [
    "4 Faça um Programa que peça a temperatura em graus Farenheit, transforme e\n",
    "mostre a temperatura em graus Celsius. C = (5 * (F-32) / 9)."
   ]
  },
  {
   "cell_type": "code",
   "execution_count": 2,
   "metadata": {},
   "outputs": [
    {
     "name": "stdout",
     "output_type": "stream",
     "text": [
      "Digite a temperatura em Farenheint5\n",
      "Temperatura em Cencius -15.0°\n"
     ]
    }
   ],
   "source": [
    "graus_f = float(input(\"Digite a temperatura em Farenheint\"))\n",
    "\n",
    "graus_c = (5 * (graus_f-32) / 9)\n",
    "\n",
    "print(\"Temperatura em Celcius {}°\".format(graus_c))"
   ]
  },
  {
   "cell_type": "markdown",
   "metadata": {},
   "source": [
    "5 Faça um Programa que peça a temperatura em graus Celsius, transforme e mostre\n",
    "em graus Farenheit."
   ]
  },
  {
   "cell_type": "code",
   "execution_count": 8,
   "metadata": {},
   "outputs": [
    {
     "name": "stdout",
     "output_type": "stream",
     "text": [
      "Digite a temperatura em Farenheint5\n",
      "Temperatura em Farenheint 41.0°\n"
     ]
    }
   ],
   "source": [
    "graus_c = float(input(\"Digite a temperatura em Farenheint\"))\n",
    "\n",
    "graus_f = ((graus_c * 9/5) + 32)\n",
    "\n",
    "print(\"Temperatura em Farenheint {}°\".format(graus_f))"
   ]
  },
  {
   "cell_type": "markdown",
   "metadata": {},
   "source": [
    "6 Faça um Programa que peça 2 números inteiros e um número real. Calcule e\n",
    "mostre:\n",
    "- o produto do dobro do primeiro com metade do segundo .\n",
    "- a soma do triplo do primeiro com o terceiro.\n",
    "- o terceiro elevado ao cubo."
   ]
  },
  {
   "cell_type": "code",
   "execution_count": 11,
   "metadata": {},
   "outputs": [
    {
     "name": "stdout",
     "output_type": "stream",
     "text": [
      "Digite um numero inteiro1\n",
      "Digite um numero inteiro1\n",
      "Digite um numero real1\n",
      "2.5\n",
      "4.0\n",
      "1.0\n"
     ]
    }
   ],
   "source": [
    "ia = int(input(\"Digite um numero inteiro\"))\n",
    "ib = int(input(\"Digite um numero inteiro\"))\n",
    "ir = float(input(\"Digite um numero real\"))\n",
    "\n",
    "print(2*ia + (ib/2))\n",
    "print(3*ia + ir)\n",
    "print(ir**3)\n"
   ]
  },
  {
   "cell_type": "markdown",
   "metadata": {},
   "source": [
    "7 João Papo-de-Pescador, homem de bem, comprou um microcomputador para\n",
    "controlar o rendimento diário de seu trabalho. Toda vez que ele traz um peso de\n",
    "peixes maior que o estabelecido pelo regulamento de pesca do estado de São Paulo\n",
    "(50 quilos) deve pagar uma multa de R$ 4,00 por quilo excedente. João precisa que\n",
    "você faça um programa que leia a variável peso (peso de peixes) e verifique se há\n",
    "excesso. Se houver, gravar na variável excesso e na variável multa o valor da multa\n",
    "que João deverá pagar. Caso contrário mostrar tais variáveis com o conteúdo ZERO."
   ]
  },
  {
   "cell_type": "code",
   "execution_count": 17,
   "metadata": {},
   "outputs": [
    {
     "name": "stdout",
     "output_type": "stream",
     "text": [
      "Digite o peso do peixe51\n",
      "Execedido 1.0, total a pagar 4.0\n"
     ]
    }
   ],
   "source": [
    "peso_peixe = float(input(\"Digite o peso do peixe\"))\n",
    "valor_pagar = 0\n",
    "excedido = 0\n",
    "\n",
    "if (peso_peixe > 50):\n",
    "    excedido = peso_peixe - 50\n",
    "    valor_pagar = excedido * 4.0\n",
    "\n",
    "\n",
    "print(\"Execedido {}, total a pagar {}\".format(excedido, valor_pagar))"
   ]
  },
  {
   "cell_type": "markdown",
   "metadata": {},
   "source": [
    "8 Faça um Programa que pergunte quanto você ganha por hora e o número de horas\n",
    "trabalhadas no mês. Calcule e mostre o total do seu salário no referido mês,\n",
    "sabendo-se que são descontados 11% para o Imposto de Renda, 8% para o INSS e 5%\n",
    "para o sindicato, faça um programa que nos dê:\n",
    "- salário bruto.\n",
    "- quanto pagou ao INSS.\n",
    "- quanto pagou ao sindicato.\n",
    "- o salário líquido.\n",
    "- calcule os descontos e o salário líquido, conforme a tabela abaixo:\n",
    "+ Salário Bruto : R$\n",
    "- IR (11%) : R$\n",
    "- INSS (8%) : R$\n",
    "- Sindicato ( 5%) : R$\n",
    "= Salário Liquido : R$\n",
    "Obs.: Salário Bruto - Descontos = Salário Líquido."
   ]
  },
  {
   "cell_type": "code",
   "execution_count": 93,
   "metadata": {},
   "outputs": [
    {
     "name": "stdout",
     "output_type": "stream",
     "text": [
      "Quanto voce ganha por hora100\n",
      "Quantidade de horas trabahadas50\n",
      "Bruto: 5000.0, Liquido 3500.0, INSS: 400.0, IR: 550.0, SID: 550.0\n"
     ]
    }
   ],
   "source": [
    "valor_hora = float(input(\"Quanto voce ganha por hora\"))\n",
    "hora_trab = int(input(\"Quantidade de horas trabahadas\"))\n",
    "\n",
    "salario_bruto = valor_hora * hora_trab\n",
    "\n",
    "inss = salario_bruto * 0.08\n",
    "ir = salario_bruto * 0.11\n",
    "sid = salario_bruto * 0.11\n",
    "\n",
    "salario_liquido = salario_bruto - inss - ir - sid\n",
    "\n",
    "print(\"Bruto: {}, Liquido {}, INSS: {}, IR: {}, SID: {}\".format(salario_bruto, salario_liquido, inss, ir, sid))"
   ]
  },
  {
   "cell_type": "markdown",
   "metadata": {},
   "source": [
    "9 Faça um programa que leia 2 strings e informe o conteúdo delas seguido do seu\n",
    "comprimento. Informe também se as duas strings possuem o mesmo comprimento e\n",
    "são iguais ou diferentes no conteúdo.\n",
    "Exemplo:\n",
    "String 1: Brasil Hexa 2018\n",
    "String 2: Brasil! Hexa 2018!\n",
    "Tamanho de \"Brasil Hexa 2018\": 16 caracteres\n",
    "Tamanho de \"Brasil! Hexa 2018!\": 18 caracteres\n",
    "As duas strings são de tamanhos diferentes.\n",
    "As duas strings possuem conteúdo diferente."
   ]
  },
  {
   "cell_type": "code",
   "execution_count": 98,
   "metadata": {},
   "outputs": [
    {
     "name": "stdout",
     "output_type": "stream",
     "text": [
      "Digite a primeira String:aa\n",
      "Digite a primeira String: aa\n",
      "aa 2\n",
      "aa 2\n",
      "As Duas String possuem o mesmo tamanho As duas String possuem o mesmo conteudo\n"
     ]
    }
   ],
   "source": [
    "str1 = input(\"Digite a primeira String:\" )\n",
    "str2 = input(\"Digite a primeira String: \")\n",
    "\n",
    "taman = \"Tamanho Diferente\"\n",
    "content = \"Conteudo Diferente\"\n",
    "\n",
    "for i in list([str1, str2]):\n",
    "    print(i, len(i))\n",
    "    \n",
    "if len(str1) == len(str2):\n",
    "    taman = \"As Duas String possuem o mesmo tamanho\"\n",
    "if str1 == str2:\n",
    "    content = \"As duas String possuem o mesmo conteudo\"\n",
    "\n",
    "print(taman, content)\n",
    "    "
   ]
  },
  {
   "cell_type": "markdown",
   "metadata": {},
   "source": [
    "10 Faça um programa que permita ao usuário digitar o seu nome e em seguida\n",
    "mostre o nome do usuário de trás para frente utilizando somente letras maiúsculas.\n",
    "Dica: lembre−se que ao informar o nome o usuário pode digitar letras maiúsculas ou\n",
    "minúsculas. Observação: não use loops."
   ]
  },
  {
   "cell_type": "code",
   "execution_count": 100,
   "metadata": {},
   "outputs": [
    {
     "name": "stdout",
     "output_type": "stream",
     "text": [
      "Digite seu nomeLucas\n",
      "SACUL\n"
     ]
    }
   ],
   "source": [
    "nome = str(input(\"Digite seu nome\")).upper()\n",
    "print(nome[::-1])"
   ]
  },
  {
   "cell_type": "markdown",
   "metadata": {},
   "source": [
    "11 Faça um programa que solicite a data de nascimento (dd/mm/aaaa) do usuário e\n",
    "imprima a data com o nome do mês por extenso.\n",
    "Data de Nascimento: 29/10/1973\n",
    "Você nasceu em 29 de Outubro de 1973.\n",
    "Obs.: Não use desvio condicional nem loops."
   ]
  },
  {
   "cell_type": "code",
   "execution_count": 103,
   "metadata": {},
   "outputs": [
    {
     "name": "stdout",
     "output_type": "stream",
     "text": [
      "Digite sua data de nascimento02/10/1997\n",
      "Voce nasceu dia 02 de Outubro de 1997\n"
     ]
    }
   ],
   "source": [
    "nascimento = str(input(\"Digite sua data de nascimento\"))\n",
    "\n",
    "dict_mes = {1:\"Janeiro\", 2:\"Fevereiro\", 3:\"Marco\", 4:\"Abril\", 5:\"Maio\", 6:\"Junho\", 7:\"Julho\", 8:\"Agosto\",\n",
    "           9:\"Setembro\", 10:\"Outubro\", 11:\"Novembro\", 12:\"Dezembro\"}\n",
    "\n",
    "nascimento_list = nascimento.split(\"/\")\n",
    "\n",
    "print (\"Voce nasceu dia {} de {} de {}\".format(nascimento_list[0], dict_mes[int(nascimento_list[1])],nascimento_list[2]))\n"
   ]
  },
  {
   "cell_type": "markdown",
   "metadata": {},
   "source": [
    "12 Leet é uma forma de se escrever o alfabeto latino usando outros símbolos em\n",
    "lugar das letras, como números por exemplo. A própria palavra leet admite muitas\n",
    "variações, como l33t ou 1337. O uso do leet reflete uma subcultura relacionada ao\n",
    "mundo dos jogos de computador e internet, sendo muito usada para confundir os\n",
    "iniciantes e afirmar-se como parte de um grupo. Pesquise sobre as principais formas\n",
    "de traduzir as letras. Depois, faça um programa que peça uma texto e transforme-o\n",
    "para a grafia leet speak.\n",
    "Desafio: não use loops nem desvios condicionais."
   ]
  },
  {
   "cell_type": "code",
   "execution_count": 104,
   "metadata": {},
   "outputs": [
    {
     "name": "stdout",
     "output_type": "stream",
     "text": [
      "Insira o texto: Lucas\n",
      "|()(45,$\n"
     ]
    }
   ],
   "source": [
    "text = input(\"Insira o texto: \").upper()\n",
    "leet = {'A': '4','B':'8','C':'(','D':')','E':'3','F':'|=','G':'6','H':'#','I':'1','J':'|','K':'|<','L':'|','M':'|\\/|','N':'/\\/','O':'0','P':'|D','Q':'(,)','R':'|2','S':'5,$','T':'7','U':'()','V':'\\/ ','W':'\\/\\/','X':'><','Y':'¥','Z':'2'}\n",
    "\n",
    "teste = map(lambda key: key if key in leet[key] else leet[key], list(text))\n",
    "print(''.join(teste))"
   ]
  },
  {
   "cell_type": "markdown",
   "metadata": {},
   "source": [
    "13 Crie um programa que recebe uma lista de números e\n",
    "- retorne o maior elemento\n",
    "- retorne a soma dos elementos\n",
    "- retorne o número de ocorrências do primeiro elemento da lista\n",
    "- retorne a média dos elementos\n",
    "- retorne o valor mais próximo da média dos elementos\n",
    "\n",
    "- retorne a soma dos elementos com valor negativo\n",
    "- retorne a quantidade de vizinhos iguais"
   ]
  },
  {
   "cell_type": "code",
   "execution_count": 123,
   "metadata": {},
   "outputs": [
    {
     "name": "stdout",
     "output_type": "stream",
     "text": [
      "1\n",
      "10 1 55\n",
      "5.5\n"
     ]
    },
    {
     "data": {
      "text/plain": [
       "6"
      ]
     },
     "execution_count": 123,
     "metadata": {},
     "output_type": "execute_result"
    }
   ],
   "source": [
    "nums = [1, 2, 3, 4, 5, 6, 7, 8, 9, 10]\n",
    "\n",
    "#Numero de ocorrencias\n",
    "print(nums.count(nums[0]))\n",
    "\n",
    "#Maximo, minimo e soma\n",
    "print (max(nums), min(nums), sum(nums))\n",
    "\n",
    "#Media de todos os valores\n",
    "media = sum(nums) / len(nums)\n",
    "print(media)\n",
    "\n",
    "#Arredondar valor em Python\n",
    "round(media)"
   ]
  },
  {
   "cell_type": "markdown",
   "metadata": {},
   "source": [
    "14 Faça um programa que receba duas listas e retorne True se são iguais ou False\n",
    "caso contrario.\n",
    "Duas listas são iguais se possuem os mesmos valores e na mesma ordem."
   ]
  },
  {
   "cell_type": "code",
   "execution_count": 127,
   "metadata": {},
   "outputs": [
    {
     "name": "stdout",
     "output_type": "stream",
     "text": [
      "False\n"
     ]
    }
   ],
   "source": [
    "def check_iguais(lista1, lista2):\n",
    "    if lista1 == lista2:\n",
    "        return True\n",
    "    return False\n",
    "\n",
    "lista_1 = [1, 2, 3, 4]\n",
    "lista_2 = [1, 2, 3, 4]\n",
    "\n",
    "print(check_iguais(lista_1, lista_2))"
   ]
  },
  {
   "cell_type": "markdown",
   "metadata": {},
   "source": [
    "15 Faça um programa que receba duas listas e retorne True se têm os mesmos\n",
    "elementos ou False caso contrário\n",
    "Duas listas possuem os mesmos elementos quando são compostas pelos mesmos\n",
    "valores, mas não obrigatoriamente na mesma ordem."
   ]
  },
  {
   "cell_type": "code",
   "execution_count": 133,
   "metadata": {},
   "outputs": [
    {
     "name": "stdout",
     "output_type": "stream",
     "text": [
      "True\n"
     ]
    }
   ],
   "source": [
    "lista_1 = [1, 2, 3, 4]\n",
    "lista_2 = [1, 2, 3, 4]\n",
    "\n",
    "lista_final = list(set(lista_1) - set(lista_2))\n",
    "\n",
    "if len(lista_final) == 0:\n",
    "    print(True)\n",
    "else:\n",
    "    print(False)"
   ]
  },
  {
   "cell_type": "markdown",
   "metadata": {},
   "source": [
    "16 Faça um programa que percorre uma lista com o seguinte formato: [['Brasil',\n",
    "'Italia', [10, 9]], ['Brasil', 'Espanha', [5, 7]], ['Italia', 'Espanha', [7,8]]]. Essa lista indica o\n",
    "número de faltas que cada time fez em cada jogo. Na lista acima, no jogo entre Brasil\n",
    "e Itália, o Brasil fez 10 faltas e a Itália fez 9.\n",
    "O programa deve imprimir na tela:\n",
    "- o total de faltas do campeonato\n",
    "- o time que fez mais faltas\n",
    "- o time que fez menos faltas"
   ]
  },
  {
   "cell_type": "code",
   "execution_count": 137,
   "metadata": {},
   "outputs": [
    {
     "name": "stdout",
     "output_type": "stream",
     "text": [
      "['Italia'] ['Brasil', 'Espanha'] {'Brasil': 15, 'Italia': 16, 'Espanha': 15}\n"
     ]
    }
   ],
   "source": [
    "lista_jogos = [['Brasil','Italia', [10, 9]], ['Brasil', 'Espanha', [5, 7]], ['Italia', 'Espanha', [7,8]]]\n",
    "total_faltas = 0\n",
    "dict_times = {}\n",
    "\n",
    "menos_faltas = \"\"\n",
    "mais_faltas = \"\"\n",
    "\n",
    "for jogos in lista_jogos:\n",
    "    total_faltas = total_faltas + int(jogos[2][0]) + int(jogos[2][1])\n",
    "    for times, faltas in zip(jogos, jogos[2]):\n",
    "        lista_times.append(times)\n",
    "        if(dict_times.get(times)):\n",
    "            dict_times[times] = dict_times.get(times) + faltas\n",
    "        else:\n",
    "            dict_times[times] = faltas\n",
    "mais_faltas = []\n",
    "menos_faltas = []\n",
    "\n",
    "for k, v in dict_times.items():\n",
    "    if v == max(list(dict_times.values())):\n",
    "        mais_faltas.append(k)\n",
    "    if v == min(list(dict_times.values())):\n",
    "        menos_faltas.append(k)\n",
    "\n",
    "print(mais_faltas, menos_faltas, dict_times)"
   ]
  },
  {
   "cell_type": "markdown",
   "metadata": {},
   "source": [
    "17 Escreva um programa que conta a quantidade de vogais em uma string e\n",
    "armazena tal quantidade em um dicionário, onde a chave é a vogal considerada."
   ]
  },
  {
   "cell_type": "code",
   "execution_count": 139,
   "metadata": {},
   "outputs": [
    {
     "name": "stdout",
     "output_type": "stream",
     "text": [
      "Digite uma palavra: Caarool\n",
      "{'a': 2, 'o': 2}\n"
     ]
    }
   ],
   "source": [
    "texto = input(\"Digite uma palavra: \")\n",
    "vogais = [\"a\", \"e\", \"i\", \"o\", \"u\"]\n",
    "\n",
    "dict_vogais = {}\n",
    "for v in vogais:\n",
    "    if v in texto:\n",
    "        dict_vogais[v] = list(texto).count(v)\n",
    "print(dict_vogais)\n",
    "        \n"
   ]
  },
  {
   "cell_type": "markdown",
   "metadata": {},
   "source": [
    "18 Escreva um programa que lê̂duas notas de vários alunos e armazena tais notas\n",
    "em um dicionário, onde a chave é o nome do aluno. A entrada de dados deve\n",
    "terminar quando for lida uma string vazia como nome. Escreva uma função que\n",
    "retorna a média do aluno, dado seu nome."
   ]
  },
  {
   "cell_type": "code",
   "execution_count": 1,
   "metadata": {},
   "outputs": [
    {
     "name": "stdout",
     "output_type": "stream",
     "text": [
      "Digite um nome: iagao\n",
      "Digite a nota: 8\n",
      "Digite um nome: peter\n",
      "Digite a nota: 9\n",
      "Digite um nome: \n",
      "Digite o nome de quem deseja calcular a media: iagao\n",
      "{'IAGAO': [8], 'PETER': [9]}\n",
      "Media do'a' IAGAO e 8.0\n"
     ]
    }
   ],
   "source": [
    "dict_notas = dict()\n",
    "str_text = \" \"\n",
    "\n",
    "def calcular_media(nome_aluno):\n",
    "    try:\n",
    "        lista_notas = dict_notas[nome_aluno]\n",
    "        media = sum(lista_notas) / len(lista_notas)\n",
    "        return media\n",
    "    except:\n",
    "        return False\n",
    "\n",
    "while str_text != \"\":\n",
    "    str_text = input(\"Digite um nome: \").upper()\n",
    "    if (str_text):\n",
    "        nota = int(input(\"Digite a nota: \"))\n",
    "        try:\n",
    "            dict_notas[str_text].append(nota)\n",
    "        except KeyError:\n",
    "            dict_notas[str_text] = [nota]\n",
    "    \n",
    "str_text = input(\"Digite o nome de quem deseja calcular a media: \").upper()\n",
    "media = calcular_media(str_text)\n",
    "\n",
    "print(dict_notas)\n",
    "print(\"Media do'a' {} e {}\".format(str_text, media))\n",
    "    "
   ]
  },
  {
   "cell_type": "markdown",
   "metadata": {},
   "source": [
    "20 Escreva um programa para armazenar uma agenda de telefones em um\n",
    "dicionário. Cada pessoa pode ter um ou mais telefones e a chave do dicionário é o\n",
    "nome da pessoa. Seu programa deve ter as seguintes funções:\n",
    "- incluirNovoNome – essa função acrescenta um novo nome na agenda, com um ou\n",
    "mais telefones. Ela deve receber como argumentos o nome e os telefones.\n",
    "- incluirTelefone – essa função acrescenta um telefone em um nome existente na\n",
    "agenda. Caso o nome não exista na agenda, você̂deve perguntar se a pessoa deseja\n",
    "inclui-lo. Caso a resposta seja afirmativa, use a função anterior para incluir o novo\n",
    "nome.\n",
    "\n",
    "- excluirTelefone – essa função exclui um telefone de uma pessoa que já está na\n",
    "agenda. Se a pessoa tiver apenas um telefone, ela deve ser excluída da agenda.\n",
    "- excluirNome – essa função exclui uma pessoa da agenda.\n",
    "- consultarTelefone – essa função retorna os telefones de uma pessoa na agenda."
   ]
  },
  {
   "cell_type": "code",
   "execution_count": 1,
   "metadata": {},
   "outputs": [
    {
     "name": "stdout",
     "output_type": "stream",
     "text": [
      "----------------------------------------\n",
      "1 - Adicionar novo nome \n",
      "2 - Incluir Telefone\n",
      "----------------------------------------\n",
      "Selecione a opcao desejada: a\n",
      "----------------------------------------\n",
      "1 - Adicionar novo nome \n",
      "2 - Incluir Telefone\n",
      "----------------------------------------\n",
      "Selecione a opcao desejada: a\n",
      "----------------------------------------\n",
      "1 - Adicionar novo nome \n",
      "2 - Incluir Telefone\n",
      "----------------------------------------\n",
      "Selecione a opcao desejada: 2\n",
      "Digite o nome de quem deseja adicionar o telefone: Lucas\n",
      "Digite o telefone de quem quer adicionar: 11976194455\n",
      "\n",
      "{'Lucas': {'Telefones': [['11976194455']]}}\n",
      "----------------------------------------\n",
      "1 - Adicionar novo nome \n",
      "2 - Incluir Telefone\n",
      "----------------------------------------\n",
      "Selecione a opcao desejada: 2\n",
      "Digite o nome de quem deseja adicionar o telefone: Lucas\n",
      "Digite o telefone de quem quer adicionar: 1198556644\n",
      "\n",
      "{'Lucas': {'Telefones': [['11976194455']]}}\n",
      "----------------------------------------\n",
      "1 - Adicionar novo nome \n",
      "2 - Incluir Telefone\n",
      "----------------------------------------\n",
      "----------------------------------------\n",
      "1 - Adicionar novo nome \n",
      "2 - Incluir Telefone\n",
      "----------------------------------------\n",
      "Selecione a opcao desejada: 0\n"
     ]
    }
   ],
   "source": [
    "agenda = dict()\n",
    "option = \"\"\n",
    "\n",
    "def incluir_nome(*args):\n",
    "    print ()\n",
    "    if len(args) >= 2:\n",
    "        if not (agenda.get(args[0])):\n",
    "            agenda[args[0]] = {\"Telefones\":[]}\n",
    "            agenda[args[0]][\"Telefones\"].extend(args[1:])\n",
    "            return True\n",
    "    return False\n",
    "\n",
    "def incluir_telefone(nome, telefone):\n",
    "    if (agenda.get(nome)):\n",
    "        agenda.get(nome)[\"Telefones\"].append(telefone)\n",
    "        return True\n",
    "    else:\n",
    "        novo_nome = str(input(\"Deseja incluir novo nome ? S/N\"))\n",
    "        if (novo_nome == \"S\"):\n",
    "            incluir_nome(nome, telefone)\n",
    "        else:\n",
    "            print (\"Nao quer incluir\")\n",
    "\n",
    "def menu():\n",
    "    print(\"-\"*40)\n",
    "    print(\"1 - Adicionar novo nome \\n2 - Incluir Telefone\")\n",
    "    print(\"-\"*40)\n",
    "        \n",
    "\n",
    "while option != 0:\n",
    "    menu()\n",
    "    try:\n",
    "        option = int(input(\"Selecione a opcao desejada: \"))\n",
    "    except:\n",
    "        continue\n",
    "\n",
    "    if int(option) == 1:\n",
    "        nome = input(\"Digite o nome de quem deseja adicionar: \")\n",
    "        telefones = input(\"Digite o telefone de quem quer adicionar: \")\n",
    "        incluir_nome(nome, telefones.split(\",\"))\n",
    "        print(agenda)\n",
    "    elif int(option) == 2:\n",
    "        nome = input(\"Digite o nome de quem deseja adicionar o telefone: \")\n",
    "        telefones = input(\"Digite o telefone de quem quer adicionar: \")\n",
    "        incluir_nome(nome, telefones.split(\",\"))\n",
    "        print(agenda)\n",
    "        \n",
    "\n",
    "\n",
    "#incluir_telefone(\"Iago\", \"1134764074\")\n",
    "\n"
   ]
  },
  {
   "cell_type": "markdown",
   "metadata": {},
   "source": [
    "21 Faça um programa que leia um arquivo texto contendo uma lista de endereços IP\n",
    "e gere um outro arquivo, contendo um relatório dos endereços IP válidos e inválidos.\n",
    "O arquivo de entrada possui o seguinte formato:\n",
    "200.135.80.9\n",
    "192.168.1.1\n",
    "8.35.67.74\n",
    "257.32.4.5\n",
    "85.345.1.2\n",
    "1.2.3.4\n",
    "9.8.234.5\n",
    "192.168.0.256\n",
    "O arquivo de saída possui o seguinte formato:\n",
    "[Endereços válidos:]\n",
    "200.135.80.9\n",
    "192.168.1.1\n",
    "8.35.67.74\n",
    "1.2.3.4\n",
    "[Endereços inválidos:]\n",
    "257.32.4.5\n",
    "85.345.1.2\n",
    "9.8.234.5\n",
    "192.168.0.256"
   ]
  },
  {
   "cell_type": "code",
   "execution_count": 43,
   "metadata": {},
   "outputs": [],
   "source": [
    "def validate_ips(ip_list):\n",
    "    validate_ips = dict()\n",
    "    for ip in ip_list:\n",
    "        if ip in [\"200.135.80.9\", \"192.168.1.1\", \"8.35.67.74\", \"1.2.3.4\"]:\n",
    "            validate_ips[ip] = True\n",
    "        else:\n",
    "            validate_ips[ip] = False\n",
    "    return validate_ips\n",
    "            \n",
    "def create_ip_valid_file(dict_ips, path_new):\n",
    "    with open(path_new, \"w\") as file:\n",
    "        ip_file_new = file\n",
    "        for ip,valid in dict_ips.items():\n",
    "            if (valid):\n",
    "                ip_file_new.write(f\"Valido: {ip} \\n\")\n",
    "            else:\n",
    "                ip_file_new.write(f\"Invalido: {ip} \\n\")\n",
    "\n",
    "        \n",
    "path = \"/home/duarte/Documents/Faculdade/ProgMulti_Python/ips.txt\"\n",
    "path_new = \"/home/duarte/Documents/Faculdade/ProgMulti_Python/ips_new.txt\"\n",
    "\n",
    "with open(path, \"r\") as file:\n",
    "    ip_list = file.read()\n",
    "\n",
    "ip_list = (ip_list.split(\"\\n\"))\n",
    "ip_dict = validate_ips(ip_list[:-1])\n",
    "\n",
    "create_ip_valid_file(ip_dict, path_new)"
   ]
  },
  {
   "cell_type": "markdown",
   "metadata": {},
   "source": [
    "22 A ACME Inc., uma empresa de 500 funcionários, está tendo problemas de espaço\n",
    "em disco no seu servidor de arquivos. Para tentar resolver este problema, o\n",
    "Administrador de Rede precisa saber qual o espaço ocupado pelos usuários, e\n",
    "identificar os usuários com maior espaço ocupado. Através de um programa, baixado\n",
    "da Internet, ele conseguiu gerar o seguinte arquivo, chamado \"usuarios.txt\":\n",
    "alexandre 456123789\n",
    "anderson 1245698456\n",
    "antonio 123456456\n",
    "carlos 91257581\n",
    "cesar 987458\n",
    "rosemary 789456125\n",
    "\n",
    "Neste arquivo, o nome do usuário possui 15 caracteres. A partir deste arquivo, você\n",
    "deve criar um programa que gere um relatório, chamado \"relatório.txt\", no seguinte\n",
    "formato:\n",
    "ACME Inc. Uso do espaço em disco pelos usuários\n",
    "--------------------------------------------------------------\n",
    "----------\n",
    "Nr. Usuário Espaço utilizado % do uso\n",
    "1 alexandre 434,99 MB 16,85%\n",
    "2 anderson 1187,99 MB 46,02%\n",
    "3 antonio 117,73 MB 4,56%\n",
    "4 carlos 87,03 MB 3,37%\n",
    "5 cesar 0,94 MB 0,04%\n",
    "6 rosemary 752,88 MB 29,16%\n",
    "Espaço total ocupado: 2581,57 MB\n",
    "Espaço médio ocupado: 430,26 MB\n",
    "O arquivo de entrada deve ser lido uma única vez, e os dados armazenados em\n",
    "memória, caso sejam necessários, de forma a agilizar a execução do programa. A\n",
    "conversão da espaço ocupado em disco, de bytes para megabytes deverá ser feita\n",
    "através de uma função separada, que será chamada pelo programa principal. O\n",
    "cálculo do percentual de uso também deverá ser feito através de uma função, que\n",
    "será chamada pelo programa principal."
   ]
  },
  {
   "cell_type": "code",
   "execution_count": 119,
   "metadata": {},
   "outputs": [],
   "source": [
    "def conv_KB_to_MB(input_kilobyte):\n",
    "        megabyte = float(0.000000976562)\n",
    "        convert_mb = megabyte * input_kilobyte\n",
    "        return float(round(convert_mb, 2))\n",
    "    \n",
    "def calcular_porcentagem_total(size_total, percent_total=100, size_saber=0):\n",
    "    percent_saber = (size_saber*percent_total)/size_total\n",
    "    return round(percent_saber,2)\n",
    "    \n",
    "def transform_to_dict(file):\n",
    "    dict_users = {'Nr':[], \"Usuario\":[], \"Space\":[], \"%Uso\":[], \"Total\": 0, \"Medio\": 0}\n",
    "    splitfile = file.split(\"\\n\")[:-1]\n",
    "    \n",
    "    for idx, user in enumerate(splitfile):\n",
    "        user = (user.split(\" \"))\n",
    "        dict_users[\"Nr\"].append(int(idx))\n",
    "        dict_users[\"Usuario\"].append(user[0])\n",
    "        dict_users[\"Space\"].append(conv_KB_to_MB(int(user[1])))\n",
    "    \n",
    "    total_space = round(sum(dict_users['Space']), 2)\n",
    "    for space in dict_users['Space']:\n",
    "        dict_users['%Uso'].append(calcular_porcentagem_total(total_space, 100, space))\n",
    "    \n",
    "    dict_users['Total'] = total_space\n",
    "    dict_users['Medio'] = round(total_space/len(dict_users['Nr']),2)\n",
    "    \n",
    "    return dict_users\n",
    "    \n",
    "def write_file(path_write, dict_formatado):\n",
    "    with open(path_write, \"w\") as file:\n",
    "        file.write(\"ACME Inc. Uso do espaço em disco pelos usuários\\n\")\n",
    "        file.write(\"-\"*40+\"\\n\")\n",
    "        file.write(\"NR Usuario Space %Use\\n\")\n",
    "        for nr, usuario, space, uso in zip(dict_formatado['Nr'], dict_formatado['Usuario'], dict_formatado['Space'], \n",
    "                                           dict_formatado['%Uso']):\n",
    "            file.write(f\"{nr} {usuario} {space} {uso}%\\n\")\n",
    "        file.write(f\"\\nEspaco Total Ocupado: {dict_formatado['Total']} MB\")\n",
    "        file.write(f\"\\nEspaco Medio Ocupado: {dict_formatado['Medio']} MB\")\n",
    "    \n",
    "path_users = \"/home/duarte/Documents/Faculdade/ProgMulti_Python/usuarios.txt\"\n",
    "path_relatorio = \"/home/duarte/Documents/Faculdade/ProgMulti_Python/relatorio.txt\"\n",
    "\n",
    "with open(path_users, \"r\") as file:\n",
    "    users_lists = file.read()\n",
    "\n",
    "dict_formatado = transform_to_dict(users_lists)\n",
    "write_file(path_relatorio, dict_formatado)\n",
    "\n",
    "\n",
    "    "
   ]
  }
 ],
 "metadata": {
  "kernelspec": {
   "display_name": "Python 3",
   "language": "python",
   "name": "python3"
  },
  "language_info": {
   "codemirror_mode": {
    "name": "ipython",
    "version": 3
   },
   "file_extension": ".py",
   "mimetype": "text/x-python",
   "name": "python",
   "nbconvert_exporter": "python",
   "pygments_lexer": "ipython3",
   "version": "3.6.7"
  }
 },
 "nbformat": 4,
 "nbformat_minor": 2
}
