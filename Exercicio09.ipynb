{
 "cells": [
  {
   "cell_type": "code",
   "execution_count": 9,
   "metadata": {},
   "outputs": [
    {
     "name": "stdout",
     "output_type": "stream",
     "text": [
      "Digite o raio do circulo5\n",
      "Raio e 78.5\n"
     ]
    }
   ],
   "source": [
    "raio = float(input(\"Digite o raio do circulo\"))\n",
    "\n",
    "area = 3.14 *(raio**2)\n",
    "\n",
    "print (\"Raio e {}\".format(area))"
   ]
  },
  {
   "cell_type": "code",
   "execution_count": 11,
   "metadata": {},
   "outputs": [
    {
     "name": "stdout",
     "output_type": "stream",
     "text": [
      "Digite o lado do quadrado5\n",
      "Quadrado area 50.0\n"
     ]
    }
   ],
   "source": [
    "lado = float(input(\"Digite o lado do quadrado\"))\n",
    "\n",
    "area_sqrt = (lado * lado) * 2\n",
    "\n",
    "print(\"Quadrado area {}\".format(area_sqrt))"
   ]
  },
  {
   "cell_type": "code",
   "execution_count": 15,
   "metadata": {},
   "outputs": [
    {
     "name": "stdout",
     "output_type": "stream",
     "text": [
      "Quanto voce ganha por hora5\n",
      "Quantidade de horas trabahadas10\n",
      "Total: 50.0\n"
     ]
    }
   ],
   "source": [
    "valor_hora = float(input(\"Quanto voce ganha por hora\"))\n",
    "hora_trab = int(input(\"Quantidade de horas trabahadas\"))\n",
    "\n",
    "print (\"Total: \" + str(valor_hora*hora_trab))"
   ]
  },
  {
   "cell_type": "code",
   "execution_count": 2,
   "metadata": {},
   "outputs": [
    {
     "name": "stdout",
     "output_type": "stream",
     "text": [
      "Digite a temperatura em Farenheint5\n",
      "Temperatura em Cencius -15.0°\n"
     ]
    }
   ],
   "source": [
    "graus_f = float(input(\"Digite a temperatura em Farenheint\"))\n",
    "\n",
    "graus_c = (5 * (graus_f-32) / 9)\n",
    "\n",
    "print(\"Temperatura em Celcius {}°\".format(graus_c))"
   ]
  },
  {
   "cell_type": "code",
   "execution_count": 8,
   "metadata": {},
   "outputs": [
    {
     "name": "stdout",
     "output_type": "stream",
     "text": [
      "Digite a temperatura em Farenheint5\n",
      "Temperatura em Farenheint 41.0°\n"
     ]
    }
   ],
   "source": [
    "graus_c = float(input(\"Digite a temperatura em Farenheint\"))\n",
    "\n",
    "graus_f = ((graus_c * 9/5) + 32)\n",
    "\n",
    "print(\"Temperatura em Farenheint {}°\".format(graus_f))"
   ]
  },
  {
   "cell_type": "code",
   "execution_count": 11,
   "metadata": {},
   "outputs": [
    {
     "name": "stdout",
     "output_type": "stream",
     "text": [
      "Digite um numero inteiro1\n",
      "Digite um numero inteiro1\n",
      "Digite um numero real1\n",
      "2.5\n",
      "4.0\n",
      "1.0\n"
     ]
    }
   ],
   "source": [
    "ia = int(input(\"Digite um numero inteiro\"))\n",
    "ib = int(input(\"Digite um numero inteiro\"))\n",
    "ir = float(input(\"Digite um numero real\"))\n",
    "\n",
    "print(2*ia + (ib/2))\n",
    "print(3*ia + ir)\n",
    "print(ir**3)\n"
   ]
  },
  {
   "cell_type": "code",
   "execution_count": 17,
   "metadata": {},
   "outputs": [
    {
     "name": "stdout",
     "output_type": "stream",
     "text": [
      "Digite o peso do peixe51\n",
      "Execedido 1.0, total a pagar 4.0\n"
     ]
    }
   ],
   "source": [
    "peso_peixe = float(input(\"Digite o peso do peixe\"))\n",
    "valor_pagar = 0\n",
    "excedido = 0\n",
    "\n",
    "if (peso_peixe > 50):\n",
    "    excedido = peso_peixe - 50\n",
    "    valor_pagar = excedido * 4.0\n",
    "\n",
    "\n",
    "print(\"Execedido {}, total a pagar {}\".format(excedido, valor_pagar))"
   ]
  },
  {
   "cell_type": "code",
   "execution_count": 93,
   "metadata": {},
   "outputs": [
    {
     "name": "stdout",
     "output_type": "stream",
     "text": [
      "Quanto voce ganha por hora100\n",
      "Quantidade de horas trabahadas50\n",
      "Bruto: 5000.0, Liquido 3500.0, INSS: 400.0, IR: 550.0, SID: 550.0\n"
     ]
    }
   ],
   "source": [
    "valor_hora = float(input(\"Quanto voce ganha por hora\"))\n",
    "hora_trab = int(input(\"Quantidade de horas trabahadas\"))\n",
    "\n",
    "salario_bruto = valor_hora * hora_trab\n",
    "\n",
    "inss = salario_bruto * 0.08\n",
    "ir = salario_bruto * 0.11\n",
    "sid = salario_bruto * 0.11\n",
    "\n",
    "salario_liquido = salario_bruto - inss - ir - sid\n",
    "\n",
    "print(\"Bruto: {}, Liquido {}, INSS: {}, IR: {}, SID: {}\".format(salario_bruto, salario_liquido, inss, ir, sid))"
   ]
  },
  {
   "cell_type": "code",
   "execution_count": 98,
   "metadata": {},
   "outputs": [
    {
     "name": "stdout",
     "output_type": "stream",
     "text": [
      "Digite a primeira String:aa\n",
      "Digite a primeira String: aa\n",
      "aa 2\n",
      "aa 2\n",
      "As Duas String possuem o mesmo tamanho As duas String possuem o mesmo conteudo\n"
     ]
    }
   ],
   "source": [
    "str1 = input(\"Digite a primeira String:\" )\n",
    "str2 = input(\"Digite a primeira String: \")\n",
    "\n",
    "taman = \"Tamanho Diferente\"\n",
    "content = \"Conteudo Diferente\"\n",
    "\n",
    "for i in list([str1, str2]):\n",
    "    print(i, len(i))\n",
    "    \n",
    "if len(str1) == len(str2):\n",
    "    taman = \"As Duas String possuem o mesmo tamanho\"\n",
    "if str1 == str2:\n",
    "    content = \"As duas String possuem o mesmo conteudo\"\n",
    "\n",
    "print(taman, content)\n",
    "    "
   ]
  },
  {
   "cell_type": "code",
   "execution_count": 100,
   "metadata": {},
   "outputs": [
    {
     "name": "stdout",
     "output_type": "stream",
     "text": [
      "Digite seu nomeLucas\n",
      "SACUL\n"
     ]
    }
   ],
   "source": [
    "nome = str(input(\"Digite seu nome\")).upper()\n",
    "print(nome[::-1])"
   ]
  },
  {
   "cell_type": "code",
   "execution_count": 103,
   "metadata": {},
   "outputs": [
    {
     "name": "stdout",
     "output_type": "stream",
     "text": [
      "Digite sua data de nascimento02/10/1997\n",
      "Voce nasceu dia 02 de Outubro de 1997\n"
     ]
    }
   ],
   "source": [
    "nascimento = str(input(\"Digite sua data de nascimento\"))\n",
    "\n",
    "dict_mes = {1:\"Janeiro\", 2:\"Fevereiro\", 3:\"Marco\", 4:\"Abril\", 5:\"Maio\", 6:\"Junho\", 7:\"Julho\", 8:\"Agosto\",\n",
    "           9:\"Setembro\", 10:\"Outubro\", 11:\"Novembro\", 12:\"Dezembro\"}\n",
    "\n",
    "nascimento_list = nascimento.split(\"/\")\n",
    "\n",
    "print (\"Voce nasceu dia {} de {} de {}\".format(nascimento_list[0], dict_mes[int(nascimento_list[1])],nascimento_list[2]))\n"
   ]
  },
  {
   "cell_type": "code",
   "execution_count": 104,
   "metadata": {},
   "outputs": [
    {
     "name": "stdout",
     "output_type": "stream",
     "text": [
      "Insira o texto: Lucas\n",
      "|()(45,$\n"
     ]
    }
   ],
   "source": [
    "text = input(\"Insira o texto: \").upper()\n",
    "leet = {'A': '4','B':'8','C':'(','D':')','E':'3','F':'|=','G':'6','H':'#','I':'1','J':'|','K':'|<','L':'|','M':'|\\/|','N':'/\\/','O':'0','P':'|D','Q':'(,)','R':'|2','S':'5,$','T':'7','U':'()','V':'\\/ ','W':'\\/\\/','X':'><','Y':'¥','Z':'2'}\n",
    "\n",
    "teste = map(lambda key: key if key in leet[key] else leet[key], list(text))\n",
    "print(''.join(teste))"
   ]
  },
  {
   "cell_type": "code",
   "execution_count": 123,
   "metadata": {},
   "outputs": [
    {
     "name": "stdout",
     "output_type": "stream",
     "text": [
      "1\n",
      "10 1 55\n",
      "5.5\n"
     ]
    },
    {
     "data": {
      "text/plain": [
       "6"
      ]
     },
     "execution_count": 123,
     "metadata": {},
     "output_type": "execute_result"
    }
   ],
   "source": [
    "nums = [1, 2, 3, 4, 5, 6, 7, 8, 9, 10]\n",
    "\n",
    "#Numero de ocorrencias\n",
    "print(nums.count(nums[0]))\n",
    "\n",
    "#Maximo, minimo e soma\n",
    "print (max(nums), min(nums), sum(nums))\n",
    "\n",
    "#Media de todos os valores\n",
    "media = sum(nums) / len(nums)\n",
    "print(media)\n",
    "\n",
    "#Arredondar valor em Python\n",
    "round(media)"
   ]
  },
  {
   "cell_type": "code",
   "execution_count": 127,
   "metadata": {},
   "outputs": [
    {
     "name": "stdout",
     "output_type": "stream",
     "text": [
      "False\n"
     ]
    }
   ],
   "source": [
    "def check_iguais(lista1, lista2):\n",
    "    if lista1 == lista2:\n",
    "        return True\n",
    "    return False\n",
    "\n",
    "lista_1 = [1, 2, 3, 4]\n",
    "lista_2 = [1, 2, 3, 4]\n",
    "\n",
    "print(check_iguais(lista_1, lista_2))"
   ]
  },
  {
   "cell_type": "code",
   "execution_count": 133,
   "metadata": {},
   "outputs": [
    {
     "name": "stdout",
     "output_type": "stream",
     "text": [
      "True\n"
     ]
    }
   ],
   "source": [
    "lista_1 = [1, 2, 3, 4]\n",
    "lista_2 = [1, 2, 3, 4]\n",
    "\n",
    "lista_final = list(set(lista_1) - set(lista_2))\n",
    "\n",
    "if len(lista_final) == 0:\n",
    "    print(True)\n",
    "else:\n",
    "    print(False)"
   ]
  },
  {
   "cell_type": "markdown",
   "metadata": {},
   "source": [
    "16 Faça um programa que percorre uma lista com o seguinte formato: [['Brasil',\n",
    "'Italia', [10, 9]], ['Brasil', 'Espanha', [5, 7]], ['Italia', 'Espanha', [7,8]]]. Essa lista indica o\n",
    "número de faltas que cada time fez em cada jogo. Na lista acima, no jogo entre Brasil\n",
    "e Itália, o Brasil fez 10 faltas e a Itália fez 9.\n",
    "O programa deve imprimir na tela:\n",
    "- o total de faltas do campeonato\n",
    "- o time que fez mais faltas\n",
    "- o time que fez menos faltas"
   ]
  },
  {
   "cell_type": "code",
   "execution_count": 137,
   "metadata": {},
   "outputs": [
    {
     "name": "stdout",
     "output_type": "stream",
     "text": [
      "['Italia'] ['Brasil', 'Espanha'] {'Brasil': 15, 'Italia': 16, 'Espanha': 15}\n"
     ]
    }
   ],
   "source": [
    "lista_jogos = [['Brasil','Italia', [10, 9]], ['Brasil', 'Espanha', [5, 7]], ['Italia', 'Espanha', [7,8]]]\n",
    "total_faltas = 0\n",
    "dict_times = {}\n",
    "\n",
    "menos_faltas = \"\"\n",
    "mais_faltas = \"\"\n",
    "\n",
    "for jogos in lista_jogos:\n",
    "    total_faltas = total_faltas + int(jogos[2][0]) + int(jogos[2][1])\n",
    "    for times, faltas in zip(jogos, jogos[2]):\n",
    "        lista_times.append(times)\n",
    "        if(dict_times.get(times)):\n",
    "            dict_times[times] = dict_times.get(times) + faltas\n",
    "        else:\n",
    "            dict_times[times] = faltas\n",
    "mais_faltas = []\n",
    "menos_faltas = []\n",
    "\n",
    "for k, v in dict_times.items():\n",
    "    if v == max(list(dict_times.values())):\n",
    "        mais_faltas.append(k)\n",
    "    if v == min(list(dict_times.values())):\n",
    "        menos_faltas.append(k)\n",
    "\n",
    "print(mais_faltas, menos_faltas, dict_times)"
   ]
  },
  {
   "cell_type": "code",
   "execution_count": 139,
   "metadata": {},
   "outputs": [
    {
     "name": "stdout",
     "output_type": "stream",
     "text": [
      "Digite uma palavra: Caarool\n",
      "{'a': 2, 'o': 2}\n"
     ]
    }
   ],
   "source": [
    "texto = input(\"Digite uma palavra: \")\n",
    "vogais = [\"a\", \"e\", \"i\", \"o\", \"u\"]\n",
    "\n",
    "dict_vogais = {}\n",
    "for v in vogais:\n",
    "    if v in texto:\n",
    "        dict_vogais[v] = list(texto).count(v)\n",
    "print(dict_vogais)\n",
    "        \n"
   ]
  },
  {
   "cell_type": "code",
   "execution_count": 1,
   "metadata": {},
   "outputs": [
    {
     "name": "stdout",
     "output_type": "stream",
     "text": [
      "Digite um nome: iagao\n",
      "Digite a nota: 8\n",
      "Digite um nome: peter\n",
      "Digite a nota: 9\n",
      "Digite um nome: \n",
      "Digite o nome de quem deseja calcular a media: iagao\n",
      "{'IAGAO': [8], 'PETER': [9]}\n",
      "Media do'a' IAGAO e 8.0\n"
     ]
    }
   ],
   "source": [
    "dict_notas = dict()\n",
    "str_text = \" \"\n",
    "\n",
    "def calcular_media(nome_aluno):\n",
    "    try:\n",
    "        lista_notas = dict_notas[nome_aluno]\n",
    "        media = sum(lista_notas) / len(lista_notas)\n",
    "        return media\n",
    "    except:\n",
    "        return False\n",
    "\n",
    "while str_text != \"\":\n",
    "    str_text = input(\"Digite um nome: \").upper()\n",
    "    if (str_text):\n",
    "        nota = int(input(\"Digite a nota: \"))\n",
    "        try:\n",
    "            dict_notas[str_text].append(nota)\n",
    "        except KeyError:\n",
    "            dict_notas[str_text] = [nota]\n",
    "    \n",
    "str_text = input(\"Digite o nome de quem deseja calcular a media: \").upper()\n",
    "media = calcular_media(str_text)\n",
    "\n",
    "print(dict_notas)\n",
    "print(\"Media do'a' {} e {}\".format(str_text, media))\n",
    "    "
   ]
  },
  {
   "cell_type": "code",
   "execution_count": null,
   "metadata": {},
   "outputs": [],
   "source": [
    "agenda = dict()\n",
    "option = \"\"\n",
    "\n",
    "def incluir_nome(*args):\n",
    "    print ()\n",
    "    if len(args) >= 2:\n",
    "        if not (agenda.get(args[0])):\n",
    "            agenda[args[0]] = {\"Telefones\":[]}\n",
    "            agenda[args[0]][\"Telefones\"].extend(args[1:])\n",
    "            return True\n",
    "    return False\n",
    "\n",
    "def incluir_telefone(nome, telefone):\n",
    "    if (agenda.get(nome)):\n",
    "        agenda.get(nome)[\"Telefones\"].append(telefone)\n",
    "        return True\n",
    "    else:\n",
    "        novo_nome = str(input(\"Deseja incluir novo nome ? S/N\"))\n",
    "        if (novo_nome == \"S\"):\n",
    "            incluir_nome(nome, telefone)\n",
    "        else:\n",
    "            print (\"Nao quer incluir\")\n",
    "\n",
    "def menu():\n",
    "    print(\"-\"*40)\n",
    "    print(\"1 - Adicionar novo nome \\n2 - Incluir Telefone\")\n",
    "    print(\"-\"*40)\n",
    "        \n",
    "\n",
    "while option != \"0\":\n",
    "    menu()\n",
    "    \n",
    "    option = int(input(\"Selecione a opcao desejada: \"))\n",
    "\n",
    "    if int(option) == 1:\n",
    "        nome = input(\"Digite o nome de quem deseja adicionar: \")\n",
    "        telefones = input(\"Digite o telefone de quem quer adicionar: \")\n",
    "        incluir_nome(nome, telefones.split(\",\"))\n",
    "        print(agenda)\n",
    "        \n",
    "\n",
    "\n",
    "#incluir_telefone(\"Iago\", \"1134764074\")\n",
    "\n"
   ]
  },
  {
   "cell_type": "code",
   "execution_count": null,
   "metadata": {},
   "outputs": [],
   "source": []
  },
  {
   "cell_type": "code",
   "execution_count": null,
   "metadata": {},
   "outputs": [],
   "source": []
  }
 ],
 "metadata": {
  "kernelspec": {
   "display_name": "Python 3",
   "language": "python",
   "name": "python3"
  },
  "language_info": {
   "codemirror_mode": {
    "name": "ipython",
    "version": 3
   },
   "file_extension": ".py",
   "mimetype": "text/x-python",
   "name": "python",
   "nbconvert_exporter": "python",
   "pygments_lexer": "ipython3",
   "version": "3.6.2"
  }
 },
 "nbformat": 4,
 "nbformat_minor": 2
}
