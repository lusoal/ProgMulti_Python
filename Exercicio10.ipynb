{
 "cells": [
  {
   "cell_type": "code",
   "execution_count": 1,
   "metadata": {},
   "outputs": [
    {
     "name": "stdout",
     "output_type": "stream",
     "text": [
      "Digite um numero: 2\n",
      "Digite outro numero: 5\n",
      "Maior numero 5\n"
     ]
    }
   ],
   "source": [
    "n1 = int(input(\"Digite um numero: \"))\n",
    "n2 = int(input(\"Digite outro numero: \"))\n",
    "\n",
    "if n1 > n2:\n",
    "    print(f\"Maior numero {n1}\")\n",
    "else:\n",
    "    print(f\"Maior numero {n2}\")"
   ]
  },
  {
   "cell_type": "code",
   "execution_count": 3,
   "metadata": {},
   "outputs": [
    {
     "name": "stdout",
     "output_type": "stream",
     "text": [
      "Digite uma letrap\n"
     ]
    }
   ],
   "source": [
    "vogal = ['A', 'E', 'I', 'O', 'U']\n",
    "\n",
    "letra = input(\"Digite uma letra: \")\n",
    "\n",
    "if letra.upper() in vogal:\n",
    "    print(f\"A letra {letra} e uma vogal\")\n",
    "else:\n",
    "    print(f\"A letra {letra} nao e uma vogal\")"
   ]
  },
  {
   "cell_type": "code",
   "execution_count": 10,
   "metadata": {},
   "outputs": [
    {
     "name": "stdout",
     "output_type": "stream",
     "text": [
      "7.5\n",
      "Aprovado\n"
     ]
    }
   ],
   "source": [
    "nota1 = 5\n",
    "nota2 = 10\n",
    "\n",
    "media = (nota1 + nota2 )/ 2\n",
    "\n",
    "if media >= 7 and media < 10:\n",
    "    print(\"Aprovado\")\n",
    "elif media <= 5:\n",
    "    print(\"Reprovado\")\n",
    "else:\n",
    "    print(\"Aprovado com Distinção\")"
   ]
  },
  {
   "cell_type": "code",
   "execution_count": 19,
   "metadata": {},
   "outputs": [
    {
     "name": "stdout",
     "output_type": "stream",
     "text": [
      "7 5 2\n"
     ]
    }
   ],
   "source": [
    "lista_numeros = list()\n",
    "\n",
    "n1 = 5\n",
    "n2 = 2\n",
    "n3 = 7\n",
    "\n",
    "lista_numeros = [n1, n2, n3]\n",
    "lista_numeros = sorted(lista_numeros)[::-1]\n",
    "lista_numeros = list(map(str, lista_numeros))\n",
    "\n",
    "print(' '.join(lista_numeros))\n"
   ]
  },
  {
   "cell_type": "code",
   "execution_count": 22,
   "metadata": {},
   "outputs": [
    {
     "name": "stdout",
     "output_type": "stream",
     "text": [
      "1600 80.0 1680.0 5%\n"
     ]
    }
   ],
   "source": [
    "salario = 1600\n",
    "aumento = 0\n",
    "salario_total = 0\n",
    "percentual = \"\"\n",
    "\n",
    "if salario <= 280:\n",
    "    aumento = salario*0.20\n",
    "    salario_total = salario + aumento\n",
    "    percentual = \"20%\"\n",
    "elif salario > 280 and salario <= 700:\n",
    "    aumento = salario*0.20\n",
    "    salario_total = salario + aumento\n",
    "    percentual = \"20%\"\n",
    "elif salario > 700 and salario <= 1500:\n",
    "    aumento = salario*0.10\n",
    "    salario_total = salario + aumento\n",
    "    percentual = \"10%\"\n",
    "elif salario > 1500:\n",
    "    aumento = salario*0.05\n",
    "    salario_total = salario + aumento\n",
    "    percentual = \"5%\"\n",
    "\n",
    "print(f\"{salario} {aumento} {salario_total} {percentual}\")\n"
   ]
  },
  {
   "cell_type": "code",
   "execution_count": 24,
   "metadata": {},
   "outputs": [
    {
     "name": "stdout",
     "output_type": "stream",
     "text": [
      "Digite um numero correspondente ao dia da semana: 8\n",
      "Invalido\n"
     ]
    }
   ],
   "source": [
    "dias_semana = {1:'Domingo', 2:'Segunda', 3:'Terca', 4:'Quarta', 5:'Quinta', 6:'Sexta', 7:'Sabado'}\n",
    "\n",
    "dia = int(input(\"Digite um numero correspondente ao dia da semana: \"))\n",
    "\n",
    "if dia in dias_semana.keys():\n",
    "    print(dias_semana[dia])\n",
    "else:\n",
    "    print(\"Invalido\")"
   ]
  },
  {
   "cell_type": "code",
   "execution_count": 29,
   "metadata": {},
   "outputs": [
    {
     "name": "stdout",
     "output_type": "stream",
     "text": [
      "Digite o valor da primeira nota: 5\n",
      "Digite o valor da segunda nota: 10\n",
      "7.5\n",
      "A nota da primeira prova:  5\n",
      "A nota da segunda prova:  10\n",
      "——————————\n",
      "Você tirou um B!\n",
      "Sua media é de: 7.5\n",
      "você foi aprovado!!\n"
     ]
    }
   ],
   "source": [
    "n1 = int(input(\"Digite o valor da primeira nota: \"))\n",
    "n2 = int(input(\"Digite o valor da segunda nota: \"))\n",
    "\n",
    "nota = (n1 + n2)/2\n",
    "print(nota)\n",
    "\n",
    "if nota >= 9 and nota <= 10:\n",
    "    print( \"A nota da primeira prova: \",n1)\n",
    "    print( \"A nota da segunda prova: \",n2)\n",
    "    print( \"——————————\")\n",
    "    print( \"Você tirou um A!\")\n",
    "    print( \"Sua media é de:\",nota)\n",
    "    print( \"você foi aprovado!!\")\n",
    "\n",
    "elif nota >= 7.5 and nota < 9:\n",
    "    print( \"A nota da primeira prova: \",n1)\n",
    "    print( \"A nota da segunda prova: \",n2)\n",
    "    print( \"——————————\")\n",
    "    print( \"Você tirou um B!\")\n",
    "    print( \"Sua media é de:\",nota)\n",
    "    print( \"você foi aprovado!!\")\n",
    "\n",
    "elif nota >= 6.5 and nota < 7.5:\n",
    "    print( \"A nota da primeira prova: \",n1)\n",
    "    print( \"A nota da segunda prova: \",n2)\n",
    "    print( \"——————————\")\n",
    "    print( \"Você tirou um C!\")\n",
    "    print( \"Sua media é de:\",nota)\n",
    "    print( \"você foi aprovado!!\")\n",
    "\n",
    "elif nota >= 4 and nota < 6:\n",
    "    print( \"A nota da primeira prova: \",n1)\n",
    "    print( \"A nota da segunda prova: \",n2)\n",
    "    print( \"——————————\")\n",
    "    print( \"Você tirou um D!\")\n",
    "    print( \"Sua media é de:\",nota)\n",
    "    print( \"você foi reprovado!!\")\n",
    "\n",
    "elif nota < 4:\n",
    "    print( \"A nota da primeira prova: \",n1)\n",
    "    print( \"A nota da segunda prova: \",n2)\n",
    "    print( \"——————————\")\n",
    "    print( \"Você tirou um E!\")\n",
    "    print( \"Sua media é de:\",nota)\n",
    "    print( \"você foi reprovado!!\")"
   ]
  },
  {
   "cell_type": "code",
   "execution_count": 34,
   "metadata": {},
   "outputs": [
    {
     "name": "stdout",
     "output_type": "stream",
     "text": [
      "Digite o tamanho do primeiro lado: 5\n",
      "Digite o segundo lado: 5\n",
      "Digite o segundo lado: 5\n",
      "Triângulo Equilátero\n"
     ]
    }
   ],
   "source": [
    "l1 = input('Digite o tamanho do primeiro lado: ')\n",
    "l2 = input('Digite o segundo lado: ')\n",
    "l3 = input('Digite o segundo lado: ')\n",
    "\n",
    "if l1 + l2 > l3:\n",
    "    if l1 == l2 and l1 == l3:\n",
    "        print ('Triângulo Equilátero')\n",
    "    elif l1 == l2 or l2 == l3 or l1 == l3:\n",
    "        print ('Triângulo Isósceles')\n",
    "    elif l1 != l2 and l3 or l2 != l1 and l3 or l1 != l3:\n",
    "        print ('Triângulo Escaleno')\n",
    "\n",
    "else:\n",
    "    print ('É impossivel ser um triângulo')"
   ]
  },
  {
   "cell_type": "code",
   "execution_count": 8,
   "metadata": {},
   "outputs": [
    {
     "name": "stdout",
     "output_type": "stream",
     "text": [
      "digite o valor de a1\n",
      "digite o valor de b10\n",
      "digite o valor de c1\n",
      "A: -5.101020514433644, B: -14.898979485566356\n"
     ]
    }
   ],
   "source": [
    "a = float(input(\"digite o valor de a\"))\n",
    "delta = True\n",
    "\n",
    "if a == 0:\n",
    "    print(\"Nao e 2 grau\")\n",
    "    delta = False\n",
    "else:\n",
    "    b = float(input(\"digite o valor de b\"))\n",
    "    c = float(input(\"digite o valor de c\"))\n",
    "\n",
    "if (delta):\n",
    "    eqb = 0\n",
    "    eqA = 0\n",
    "    delta = (b**2)-(4*a*c)\n",
    "    if delta <0:\n",
    "        print(\"Nao possui raizes reais\")\n",
    "    elif delta == 0:\n",
    "        print(\"Possui apenas uma raiz real\")\n",
    "    else:\n",
    "        #Calcular com delta\n",
    "        eqA = -b + (delta ** 0.5) / (2*a)\n",
    "        eqB = -b - (delta ** 0.5) / (2*a)\n",
    "        print(f\"A: {eqA}, B: {eqB}\")\n",
    "        \n",
    " "
   ]
  },
  {
   "cell_type": "code",
   "execution_count": 22,
   "metadata": {},
   "outputs": [
    {
     "name": "stdout",
     "output_type": "stream",
     "text": [
      "Digite o valor que voce quer sacar: 342\n",
      "[100, 100, 100, 10, 10, 10, 10, 1, 1]\n"
     ]
    }
   ],
   "source": [
    "valor = float(input(\"Digite o valor que voce quer sacar: \"))\n",
    "\n",
    "notas_disp = [100, 50, 10, 5, 1]\n",
    "nota = []\n",
    "\n",
    "if valor >= 10 and valor <=600:\n",
    "    count = 0\n",
    "    while valor > 0:\n",
    "        if (valor - notas_disp[count]) >= 0:\n",
    "            nota.append(notas_disp[count])\n",
    "            valor = valor - notas_disp[count]\n",
    "        else:\n",
    "            count +=1\n",
    "print(nota)\n",
    "    \n",
    "    "
   ]
  },
  {
   "cell_type": "code",
   "execution_count": 20,
   "metadata": {},
   "outputs": [
    {
     "name": "stdout",
     "output_type": "stream",
     "text": [
      "Telefonou para a vítima? S/NN\n",
      "Esteve no local do crime? S/NN\n",
      "Mora perto da vítima? S/NS\n",
      "Devia para a vítima? S/NN\n",
      "Já trabalhou com a vítima? S/NS\n",
      "Suspeita\n"
     ]
    }
   ],
   "source": [
    "perguntas = {'Telefonou para a vítima?':False, 'Esteve no local do crime?':False, \n",
    "             'Mora perto da vítima?':False, 'Devia para a vítima?':False, 'Já trabalhou com a vítima?':False}\n",
    "for pergunta in perguntas:\n",
    "    resposta = input(f\"{pergunta} S/N: \").upper()\n",
    "    if resposta == 'S':\n",
    "        perguntas[pergunta] = True\n",
    "respostas = sum(perguntas.values())\n",
    "\n",
    "if respostas == 2:\n",
    "    print(\"Suspeita\")\n",
    "elif respostas >2 and respostas <=4:\n",
    "    print(\"Cumplice\")\n",
    "elif respostas >4:\n",
    "    print(\"Assasino\")\n",
    "else:\n",
    "    print(\"Inocente\")\n",
    "    "
   ]
  },
  {
   "cell_type": "code",
   "execution_count": 30,
   "metadata": {},
   "outputs": [
    {
     "name": "stdout",
     "output_type": "stream",
     "text": [
      "Valor total: 23.4\n"
     ]
    }
   ],
   "source": [
    "frutas = {'Morango':[2.50, 2.20], 'Maca':[1.80, 1.50]}\n",
    "\n",
    "kg_morango = 5\n",
    "kg_maca = 10\n",
    "\n",
    "kilos = [kg_morango, kg_maca]\n",
    "valor_total = 0\n",
    "\n",
    "for fruta, kg in zip(frutas, kilos):\n",
    "    if kg_morango > 5 or kg_maca > 5:\n",
    "        valor_total += frutas[fruta][1] * kg\n",
    "    else:\n",
    "        valor_total += frutas[fruta][0] * kg\n",
    "\n",
    "if valor_total > 25:\n",
    "    valor_total = valor_total - (valor_total*0.1)\n",
    "    \n",
    "print(f\"Valor total: {valor_total}\")"
   ]
  },
  {
   "cell_type": "code",
   "execution_count": 51,
   "metadata": {},
   "outputs": [
    {
     "name": "stdout",
     "output_type": "stream",
     "text": [
      "Digite uma nota: 12\n",
      "Nota invalida\n",
      "Digite uma nota: 12\n",
      "Nota invalida\n",
      "Digite uma nota: 12\n",
      "Nota invalida\n",
      "Digite uma nota: 12\n",
      "Nota invalida\n",
      "Digite uma nota: 12\n",
      "Nota invalida\n",
      "Digite uma nota: 10\n"
     ]
    }
   ],
   "source": [
    "while True:\n",
    "    nota = int(input(\"Digite uma nota: \"))\n",
    "    if (nota < 0 or nota > 10):\n",
    "        nota-=1\n",
    "        print(\"Nota invalida\")\n",
    "    else:\n",
    "        break"
   ]
  },
  {
   "cell_type": "code",
   "execution_count": null,
   "metadata": {},
   "outputs": [],
   "source": []
  }
 ],
 "metadata": {
  "kernelspec": {
   "display_name": "Python 3",
   "language": "python",
   "name": "python3"
  },
  "language_info": {
   "codemirror_mode": {
    "name": "ipython",
    "version": 3
   },
   "file_extension": ".py",
   "mimetype": "text/x-python",
   "name": "python",
   "nbconvert_exporter": "python",
   "pygments_lexer": "ipython3",
   "version": "3.6.7"
  }
 },
 "nbformat": 4,
 "nbformat_minor": 2
}
