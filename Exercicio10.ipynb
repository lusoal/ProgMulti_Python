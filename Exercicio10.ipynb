{
 "cells": [
  {
   "cell_type": "markdown",
   "metadata": {},
   "source": [
    "1. Faça um Programa que peça dois números e imprima o maior deles."
   ]
  },
  {
   "cell_type": "code",
   "execution_count": 1,
   "metadata": {},
   "outputs": [
    {
     "name": "stdout",
     "output_type": "stream",
     "text": [
      "Digite um numero: 2\n",
      "Digite outro numero: 5\n",
      "Maior numero 5\n"
     ]
    }
   ],
   "source": [
    "n1 = int(input(\"Digite um numero: \"))\n",
    "n2 = int(input(\"Digite outro numero: \"))\n",
    "\n",
    "if n1 > n2:\n",
    "    print(f\"Maior numero {n1}\")\n",
    "else:\n",
    "    print(f\"Maior numero {n2}\")"
   ]
  },
  {
   "cell_type": "markdown",
   "metadata": {},
   "source": [
    "2. Faça um Programa que verifique se uma letra digitada é vogal ou consoante."
   ]
  },
  {
   "cell_type": "code",
   "execution_count": 3,
   "metadata": {},
   "outputs": [
    {
     "name": "stdout",
     "output_type": "stream",
     "text": [
      "Digite uma letrap\n"
     ]
    }
   ],
   "source": [
    "vogal = ['A', 'E', 'I', 'O', 'U']\n",
    "\n",
    "letra = input(\"Digite uma letra: \")\n",
    "\n",
    "if letra.upper() in vogal:\n",
    "    print(f\"A letra {letra} e uma vogal\")\n",
    "else:\n",
    "    print(f\"A letra {letra} nao e uma vogal\")"
   ]
  },
  {
   "cell_type": "markdown",
   "metadata": {},
   "source": [
    "3. Faça um programa para a leitura de duas notas parciais de um aluno. O programa\n",
    "deve calcular a média alcançada por aluno e apresentar:\n",
    "- A mensagem \"Aprovado\", se a média alcançada for maior ou igual a sete;\n",
    "- A mensagem \"Reprovado\", se a média for menor do que sete;\n",
    "- A mensagem \"Aprovado com Distinção\", se a média for igual a dez."
   ]
  },
  {
   "cell_type": "code",
   "execution_count": 10,
   "metadata": {},
   "outputs": [
    {
     "name": "stdout",
     "output_type": "stream",
     "text": [
      "7.5\n",
      "Aprovado\n"
     ]
    }
   ],
   "source": [
    "nota1 = 5\n",
    "nota2 = 10\n",
    "\n",
    "media = (nota1 + nota2 )/ 2\n",
    "\n",
    "if media >= 7 and media < 10:\n",
    "    print(\"Aprovado\")\n",
    "elif media <= 5:\n",
    "    print(\"Reprovado\")\n",
    "else:\n",
    "    print(\"Aprovado com Distinção\")"
   ]
  },
  {
   "cell_type": "markdown",
   "metadata": {},
   "source": [
    "4. Faça um Programa que leia três números e mostre-os em ordem decrescente."
   ]
  },
  {
   "cell_type": "code",
   "execution_count": 19,
   "metadata": {},
   "outputs": [
    {
     "name": "stdout",
     "output_type": "stream",
     "text": [
      "7 5 2\n"
     ]
    }
   ],
   "source": [
    "lista_numeros = list()\n",
    "\n",
    "n1 = 5\n",
    "n2 = 2\n",
    "n3 = 7\n",
    "\n",
    "lista_numeros = [n1, n2, n3]\n",
    "lista_numeros = sorted(lista_numeros)[::-1]\n",
    "lista_numeros = list(map(str, lista_numeros))\n",
    "\n",
    "print(' '.join(lista_numeros))\n"
   ]
  },
  {
   "cell_type": "markdown",
   "metadata": {},
   "source": [
    "5. As Organizações Tabajara resolveram dar um aumento de salário aos seus\n",
    "colaboradores e lhe contrataram para desenvolver o programa que calculará os\n",
    "reajustes.\n",
    "Faça um programa que recebe o salário de um colaborador e o reajuste segundo o\n",
    "seguinte critério, baseado no salário atual:\n",
    "- salários até R$ 280,00 (incluindo) : aumento de 20%\n",
    "- salários entre R$ 280,00 e R$ 700,00 : aumento de 15%\n",
    "- salários entre R$ 700,00 e R$ 1500,00 : aumento de 10%\n",
    "- salários de R$ 1500,00 em diante : aumento de 5% Após o aumento ser realizado,\n",
    "informe na tela:\n",
    "- o salário antes do reajuste;\n",
    "- o percentual de aumento aplicado;\n",
    "- o valor do aumento;\n",
    "- o novo salário, após o aumento."
   ]
  },
  {
   "cell_type": "code",
   "execution_count": 22,
   "metadata": {},
   "outputs": [
    {
     "name": "stdout",
     "output_type": "stream",
     "text": [
      "1600 80.0 1680.0 5%\n"
     ]
    }
   ],
   "source": [
    "salario = 1600\n",
    "aumento = 0\n",
    "salario_total = 0\n",
    "percentual = \"\"\n",
    "\n",
    "if salario <= 280:\n",
    "    aumento = salario*0.20\n",
    "    salario_total = salario + aumento\n",
    "    percentual = \"20%\"\n",
    "elif salario > 280 and salario <= 700:\n",
    "    aumento = salario*0.20\n",
    "    salario_total = salario + aumento\n",
    "    percentual = \"20%\"\n",
    "elif salario > 700 and salario <= 1500:\n",
    "    aumento = salario*0.10\n",
    "    salario_total = salario + aumento\n",
    "    percentual = \"10%\"\n",
    "elif salario > 1500:\n",
    "    aumento = salario*0.05\n",
    "    salario_total = salario + aumento\n",
    "    percentual = \"5%\"\n",
    "\n",
    "print(f\"{salario} {aumento} {salario_total} {percentual}\")\n"
   ]
  },
  {
   "cell_type": "markdown",
   "metadata": {},
   "source": [
    "6. Faça um Programa que leia um número e exiba o dia correspondente da semana.\n",
    "(1-Domingo, 2- Segunda, etc.), se digitar outro valor deve aparecer valor inválido."
   ]
  },
  {
   "cell_type": "code",
   "execution_count": 24,
   "metadata": {},
   "outputs": [
    {
     "name": "stdout",
     "output_type": "stream",
     "text": [
      "Digite um numero correspondente ao dia da semana: 8\n",
      "Invalido\n"
     ]
    }
   ],
   "source": [
    "dias_semana = {1:'Domingo', 2:'Segunda', 3:'Terca', 4:'Quarta', 5:'Quinta', 6:'Sexta', 7:'Sabado'}\n",
    "\n",
    "dia = int(input(\"Digite um numero correspondente ao dia da semana: \"))\n",
    "\n",
    "if dia in dias_semana.keys():\n",
    "    print(dias_semana[dia])\n",
    "else:\n",
    "    print(\"Invalido\")"
   ]
  },
  {
   "cell_type": "markdown",
   "metadata": {},
   "source": [
    "7. Faça um programa que lê as duas notas parciais obtidas por um aluno numa\n",
    "disciplina ao longo de um semestre, e calcule a sua média. A atribuição de conceitos\n",
    "obedece à tabela abaixo:\n",
    "Média de Aproveitamento Conceito\n",
    "Entre 9.0 e 10.0 A\n",
    "Entre 7.5 e 9.0 B\n",
    "Entre 6.0 e 7.5 C\n",
    "Entre 4.0 e 6.0 D\n",
    "Entre 4.0 e zero E\n",
    "O algoritmo deve mostrar na tela as notas, a média, o conceito correspondente e a\n",
    "mensagem “APROVADO” se o conceito for A, B ou C ou “REPROVADO” se o conceito\n",
    "for D ou E."
   ]
  },
  {
   "cell_type": "code",
   "execution_count": 29,
   "metadata": {},
   "outputs": [
    {
     "name": "stdout",
     "output_type": "stream",
     "text": [
      "Digite o valor da primeira nota: 5\n",
      "Digite o valor da segunda nota: 10\n",
      "7.5\n",
      "A nota da primeira prova:  5\n",
      "A nota da segunda prova:  10\n",
      "——————————\n",
      "Você tirou um B!\n",
      "Sua media é de: 7.5\n",
      "você foi aprovado!!\n"
     ]
    }
   ],
   "source": [
    "n1 = int(input(\"Digite o valor da primeira nota: \"))\n",
    "n2 = int(input(\"Digite o valor da segunda nota: \"))\n",
    "\n",
    "nota = (n1 + n2)/2\n",
    "print(nota)\n",
    "\n",
    "if nota >= 9 and nota <= 10:\n",
    "    print( \"A nota da primeira prova: \",n1)\n",
    "    print( \"A nota da segunda prova: \",n2)\n",
    "    print( \"——————————\")\n",
    "    print( \"Você tirou um A!\")\n",
    "    print( \"Sua media é de:\",nota)\n",
    "    print( \"você foi aprovado!!\")\n",
    "\n",
    "elif nota >= 7.5 and nota < 9:\n",
    "    print( \"A nota da primeira prova: \",n1)\n",
    "    print( \"A nota da segunda prova: \",n2)\n",
    "    print( \"——————————\")\n",
    "    print( \"Você tirou um B!\")\n",
    "    print( \"Sua media é de:\",nota)\n",
    "    print( \"você foi aprovado!!\")\n",
    "\n",
    "elif nota >= 6.5 and nota < 7.5:\n",
    "    print( \"A nota da primeira prova: \",n1)\n",
    "    print( \"A nota da segunda prova: \",n2)\n",
    "    print( \"——————————\")\n",
    "    print( \"Você tirou um C!\")\n",
    "    print( \"Sua media é de:\",nota)\n",
    "    print( \"você foi aprovado!!\")\n",
    "\n",
    "elif nota >= 4 and nota < 6:\n",
    "    print( \"A nota da primeira prova: \",n1)\n",
    "    print( \"A nota da segunda prova: \",n2)\n",
    "    print( \"——————————\")\n",
    "    print( \"Você tirou um D!\")\n",
    "    print( \"Sua media é de:\",nota)\n",
    "    print( \"você foi reprovado!!\")\n",
    "\n",
    "elif nota < 4:\n",
    "    print( \"A nota da primeira prova: \",n1)\n",
    "    print( \"A nota da segunda prova: \",n2)\n",
    "    print( \"——————————\")\n",
    "    print( \"Você tirou um E!\")\n",
    "    print( \"Sua media é de:\",nota)\n",
    "    print( \"você foi reprovado!!\")"
   ]
  },
  {
   "cell_type": "markdown",
   "metadata": {},
   "source": [
    "8. Faça um Programa que peça os 3 lados de um triângulo. O programa deverá\n",
    "informar se os valores podem ser um triângulo. Indique, caso os lados formem um\n",
    "triângulo, se o mesmo é: equilátero, isósceles ou escaleno.\n",
    "Dicas:\n",
    "- Três lados formam um triângulo quando a soma de quaisquer dois lados for maior\n",
    "que o terceiro;\n",
    "- Triângulo Equilátero: três lados iguais;\n",
    "- Triângulo Isósceles: quaisquer dois lados iguais;\n",
    "- Triângulo Escaleno: três lados diferentes;"
   ]
  },
  {
   "cell_type": "code",
   "execution_count": 34,
   "metadata": {},
   "outputs": [
    {
     "name": "stdout",
     "output_type": "stream",
     "text": [
      "Digite o tamanho do primeiro lado: 5\n",
      "Digite o segundo lado: 5\n",
      "Digite o segundo lado: 5\n",
      "Triângulo Equilátero\n"
     ]
    }
   ],
   "source": [
    "l1 = input('Digite o tamanho do primeiro lado: ')\n",
    "l2 = input('Digite o segundo lado: ')\n",
    "l3 = input('Digite o segundo lado: ')\n",
    "\n",
    "if l1 + l2 > l3:\n",
    "    if l1 == l2 and l1 == l3:\n",
    "        print ('Triângulo Equilátero')\n",
    "    elif l1 == l2 or l2 == l3 or l1 == l3:\n",
    "        print ('Triângulo Isósceles')\n",
    "    elif l1 != l2 and l3 or l2 != l1 and l3 or l1 != l3:\n",
    "        print ('Triângulo Escaleno')\n",
    "\n",
    "else:\n",
    "    print ('É impossivel ser um triângulo')"
   ]
  },
  {
   "cell_type": "markdown",
   "metadata": {},
   "source": [
    "9. Faça um programa que calcule as raízes de uma equação do segundo grau, na\n",
    "forma ax2 + bx + c. O programa deverá pedir os valores de a, b e c e fazer as\n",
    "consistências, informando ao usuário nas seguintes situações:\n",
    "- Se o usuário informar o valor de A igual a zero, a equação não é do segundo grau e\n",
    "o programa não deve fazer pedir os demais valores, sendo encerrado;\n",
    "\n",
    "- Se o delta calculado for negativo, a equação não possui raizes reais. Informe ao\n",
    "usuário e encerre o programa;\n",
    "- Se o delta calculado for igual a zero a equação possui apenas uma raiz real;\n",
    "informe-a ao usuário;\n",
    "- Se o delta for positivo, a equação possui duas raiz reais; informe-as ao usuário;"
   ]
  },
  {
   "cell_type": "code",
   "execution_count": 8,
   "metadata": {},
   "outputs": [
    {
     "name": "stdout",
     "output_type": "stream",
     "text": [
      "digite o valor de a1\n",
      "digite o valor de b10\n",
      "digite o valor de c1\n",
      "A: -5.101020514433644, B: -14.898979485566356\n"
     ]
    }
   ],
   "source": [
    "a = float(input(\"digite o valor de a\"))\n",
    "delta = True\n",
    "\n",
    "if a == 0:\n",
    "    print(\"Nao e 2 grau\")\n",
    "    delta = False\n",
    "else:\n",
    "    b = float(input(\"digite o valor de b\"))\n",
    "    c = float(input(\"digite o valor de c\"))\n",
    "\n",
    "if (delta):\n",
    "    eqb = 0\n",
    "    eqA = 0\n",
    "    delta = (b**2)-(4*a*c)\n",
    "    if delta <0:\n",
    "        print(\"Nao possui raizes reais\")\n",
    "    elif delta == 0:\n",
    "        print(\"Possui apenas uma raiz real\")\n",
    "    else:\n",
    "        #Calcular com delta\n",
    "        eqA = -b + (delta ** 0.5) / (2*a)\n",
    "        eqB = -b - (delta ** 0.5) / (2*a)\n",
    "        print(f\"A: {eqA}, B: {eqB}\")\n",
    "        \n",
    " "
   ]
  },
  {
   "cell_type": "markdown",
   "metadata": {},
   "source": [
    "10. Faça um Programa para um caixa eletrônico. O programa deverá perguntar ao\n",
    "usuário a valor do saque e depois informar quantas notas de cada valor serão\n",
    "fornecidas. As notas disponíveis serão as de 1, 5, 10, 50 e 100 reais. O valor mínimo é\n",
    "de 10 reais e o máximo de 600 reais. O programa não deve se preocupar com a\n",
    "quantidade de notas existentes na máquina.\n",
    "- Exemplo 1: Para sacar a quantia de 256 reais, o programa fornece duas notas de\n",
    "100, uma nota de 50, uma nota de 5 e uma nota de 1;\n",
    "- Exemplo 2: Para sacar a quantia de 399 reais, o programa fornece três notas de\n",
    "100, uma nota de 50, quatro notas de 10, uma nota de 5 e quatro notas de 1."
   ]
  },
  {
   "cell_type": "code",
   "execution_count": 20,
   "metadata": {},
   "outputs": [
    {
     "name": "stdout",
     "output_type": "stream",
     "text": [
      "Digite o valor que voce quer sacar: 75\n",
      "[50, 10, 10, 5]\n"
     ]
    }
   ],
   "source": [
    "valor = float(input(\"Digite o valor que voce quer sacar: \"))\n",
    "\n",
    "notas_disp = [100, 50, 10, 5, 1]\n",
    "nota = []\n",
    "\n",
    "if valor >= 10 and valor <=600:\n",
    "    count = 0\n",
    "    while valor > 0:\n",
    "        if (valor - notas_disp[count]) >= 0:\n",
    "            nota.append(notas_disp[count])\n",
    "            valor = valor - notas_disp[count]\n",
    "        else:\n",
    "            count +=1\n",
    "print(nota)\n",
    "    \n",
    "    "
   ]
  },
  {
   "cell_type": "markdown",
   "metadata": {},
   "source": [
    "11. Faça um programa que faça 5 perguntas para uma pessoa sobre um crime. As\n",
    "perguntas são:\n",
    "\"Telefonou para a vítima?\"\n",
    "\"Esteve no local do crime?\"\n",
    "\"Mora perto da vítima?\"\n",
    "\"Devia para a vítima?\"\n",
    "\"Já trabalhou com a vítima?\"\n",
    "O programa deve no final emitir uma classificação sobre a participação da pessoa no\n",
    "crime. Se a pessoa responder positivamente a 2 questões ela deve ser classificada\n",
    "como \"Suspeita\", entre 3 e 4 como \"Cúmplice\" e 5 como \"Assassino\". Caso contrário,\n",
    "ele será classificado como \"Inocente\"."
   ]
  },
  {
   "cell_type": "code",
   "execution_count": 20,
   "metadata": {},
   "outputs": [
    {
     "name": "stdout",
     "output_type": "stream",
     "text": [
      "Telefonou para a vítima? S/NN\n",
      "Esteve no local do crime? S/NN\n",
      "Mora perto da vítima? S/NS\n",
      "Devia para a vítima? S/NN\n",
      "Já trabalhou com a vítima? S/NS\n",
      "Suspeita\n"
     ]
    }
   ],
   "source": [
    "perguntas = {'Telefonou para a vítima?':False, 'Esteve no local do crime?':False, \n",
    "             'Mora perto da vítima?':False, 'Devia para a vítima?':False, 'Já trabalhou com a vítima?':False}\n",
    "for pergunta in perguntas:\n",
    "    resposta = input(f\"{pergunta} S/N: \").upper()\n",
    "    if resposta == 'S':\n",
    "        perguntas[pergunta] = True\n",
    "respostas = sum(perguntas.values())\n",
    "\n",
    "if respostas == 2:\n",
    "    print(\"Suspeita\")\n",
    "elif respostas >2 and respostas <=4:\n",
    "    print(\"Cumplice\")\n",
    "elif respostas >4:\n",
    "    print(\"Assasino\")\n",
    "else:\n",
    "    print(\"Inocente\")\n",
    "    "
   ]
  },
  {
   "cell_type": "markdown",
   "metadata": {},
   "source": [
    "12. Uma fruteira está vendendo frutas com a seguinte tabela de preços:\n",
    "Até 5 Kg Acima de 5 Kg\n",
    "Morango R$ 2,50 por Kg R$ 2,20 por Kg\n",
    "Maçã R$ 1,80 por Kg R$ 1,50 por Kg\n",
    "Se o cliente comprar mais de 8 Kg em frutas ou o valor total da compra ultrapassar\n",
    "R$ 25,00, receberá ainda um desconto de 10% sobre este total. Escreva um\n",
    "algoritmo para ler a quantidade (em Kg) de morangos e a quantidade (em Kg) de\n",
    "maças adquiridas e escreva o valor a ser pago pelo cliente."
   ]
  },
  {
   "cell_type": "code",
   "execution_count": 30,
   "metadata": {},
   "outputs": [
    {
     "name": "stdout",
     "output_type": "stream",
     "text": [
      "Valor total: 23.4\n"
     ]
    }
   ],
   "source": [
    "frutas = {'Morango':[2.50, 2.20], 'Maca':[1.80, 1.50]}\n",
    "\n",
    "kg_morango = 5\n",
    "kg_maca = 10\n",
    "\n",
    "kilos = [kg_morango, kg_maca]\n",
    "valor_total = 0\n",
    "\n",
    "for fruta, kg in zip(frutas, kilos):\n",
    "    if kg_morango > 5 or kg_maca > 5:\n",
    "        valor_total += frutas[fruta][1] * kg\n",
    "    else:\n",
    "        valor_total += frutas[fruta][0] * kg\n",
    "\n",
    "if valor_total > 25:\n",
    "    valor_total = valor_total - (valor_total*0.1)\n",
    "    \n",
    "print(f\"Valor total: {valor_total}\")"
   ]
  },
  {
   "cell_type": "markdown",
   "metadata": {},
   "source": [
    "13. Faça um programa que peça uma nota, entre zero e dez. Mostre uma mensagem\n",
    "caso o valor seja inválido e continue pedindo até que o usuário informe um valor\n",
    "válido."
   ]
  },
  {
   "cell_type": "code",
   "execution_count": 51,
   "metadata": {},
   "outputs": [
    {
     "name": "stdout",
     "output_type": "stream",
     "text": [
      "Digite uma nota: 12\n",
      "Nota invalida\n",
      "Digite uma nota: 12\n",
      "Nota invalida\n",
      "Digite uma nota: 12\n",
      "Nota invalida\n",
      "Digite uma nota: 12\n",
      "Nota invalida\n",
      "Digite uma nota: 12\n",
      "Nota invalida\n",
      "Digite uma nota: 10\n"
     ]
    }
   ],
   "source": [
    "while True:\n",
    "    nota = int(input(\"Digite uma nota: \"))\n",
    "    if (nota < 0 or nota > 10):\n",
    "        nota-=1\n",
    "        print(\"Nota invalida\")\n",
    "    else:\n",
    "        break"
   ]
  },
  {
   "cell_type": "markdown",
   "metadata": {},
   "source": [
    "13. Faça um programa que leia e valide as seguintes informações:\n",
    "Nome: maior que 3 caracteres;\n",
    "Idade: entre 0 e 150;\n",
    "\n",
    "Salário: maior que zero;\n",
    "Sexo: 'f' ou 'm';\n",
    "Estado Civil: 's', 'c', 'v', 'd';"
   ]
  },
  {
   "cell_type": "code",
   "execution_count": 6,
   "metadata": {},
   "outputs": [
    {
     "name": "stdout",
     "output_type": "stream",
     "text": [
      "Digite seu(a) Nome: Lucas\n",
      "Digite seu(a) Idade: 21\n",
      "Digite seu(a) Salario: 200\n",
      "Digite seu(a) Sexo: m\n",
      "Digite seu(a) Estado_Civil: c\n"
     ]
    }
   ],
   "source": [
    "validar = {\"Nome\":False, \"Idade\":False, \"Salario\":False, \"Sexo\":False, \"Estado_Civil\":False}\n",
    "\n",
    "for k, v in validar.items():\n",
    "    to_validate = input(f\"Digite seu(a) {k}: \")\n",
    "    if \"Nome\" in k:\n",
    "        if len(to_validate) > 3:\n",
    "            validar[k] = True\n",
    "    elif \"Idade\" in k:\n",
    "        if int(to_validate) > 0 and int(to_validate) <= 150:\n",
    "            validar[k] = True\n",
    "    elif \"Salario\" in k:\n",
    "        if int(to_validate) > 0:\n",
    "            validar[k] = True\n",
    "    elif \"Sexo\" in k:\n",
    "        if to_validate == \"m\" or to_validate == \"f\":\n",
    "            validar[k] = True\n",
    "    elif \"Estado_Civil\" in k:\n",
    "        if to_validate in [\"s\", \"c\", \"v\", \"d\"]:\n",
    "            validar[k] = True\n",
    "print(validar)      "
   ]
  },
  {
   "cell_type": "markdown",
   "metadata": {},
   "source": [
    "14. Faça um programa que leia 5 números e informe o maior número."
   ]
  },
  {
   "cell_type": "code",
   "execution_count": 11,
   "metadata": {},
   "outputs": [
    {
     "name": "stdout",
     "output_type": "stream",
     "text": [
      "Digite um numero: 1\n",
      "Digite um numero: 2\n",
      "Digite um numero: 3\n",
      "Digite um numero: 66\n",
      "Digite um numero: 5\n",
      "66\n"
     ]
    }
   ],
   "source": [
    "lista_num = list()\n",
    "\n",
    "for i in range(0,5):\n",
    "    numero = int(input(\"Digite um numero: \"))\n",
    "    lista_num.append(numero)\n",
    "\n",
    "print(max(lista_num))"
   ]
  },
  {
   "cell_type": "markdown",
   "metadata": {},
   "source": [
    "16. Faça um programa que imprima na tela apenas os números ímpares entre 1 e 50."
   ]
  },
  {
   "cell_type": "code",
   "execution_count": 18,
   "metadata": {},
   "outputs": [
    {
     "name": "stdout",
     "output_type": "stream",
     "text": [
      "1\n",
      "3\n",
      "5\n",
      "7\n",
      "9\n",
      "11\n",
      "13\n",
      "15\n",
      "17\n",
      "19\n",
      "21\n",
      "23\n",
      "25\n",
      "27\n",
      "29\n",
      "31\n",
      "33\n",
      "35\n",
      "37\n",
      "39\n",
      "41\n",
      "43\n",
      "45\n",
      "47\n",
      "49\n"
     ]
    }
   ],
   "source": [
    "for i in range(1, 51):\n",
    "    if (i%2) != 0:\n",
    "        print(i)"
   ]
  },
  {
   "cell_type": "markdown",
   "metadata": {},
   "source": [
    "17. Desenvolva um gerador de tabuada, capaz de gerar a tabuada de qualquer\n",
    "número inteiro entre 1 a 10. O usuário deve informar de qual numero ele deseja ver\n",
    "a tabuada. A saída deve ser conforme o exemplo abaixo:\n",
    "Tabuada de 5:\n",
    "5 X 1 = 5\n",
    "5 X 2 = 10\n",
    "...\n",
    "5 X 10 = 50"
   ]
  },
  {
   "cell_type": "code",
   "execution_count": 25,
   "metadata": {},
   "outputs": [
    {
     "name": "stdout",
     "output_type": "stream",
     "text": [
      "Digite o numero que voce que ver a tabuada: 8\n",
      "1 X 8 = 8\n",
      "2 X 8 = 16\n",
      "3 X 8 = 24\n",
      "4 X 8 = 32\n",
      "5 X 8 = 40\n",
      "6 X 8 = 48\n",
      "7 X 8 = 56\n",
      "8 X 8 = 64\n",
      "9 X 8 = 72\n",
      "10 X 8 = 80\n"
     ]
    }
   ],
   "source": [
    "numero = int(input(\"Digite o numero que voce que ver a tabuada: \"))\n",
    "for i in range(1, 11):\n",
    "    print(f\"{i} X {numero} = {i*numero}\")"
   ]
  },
  {
   "cell_type": "markdown",
   "metadata": {},
   "source": [
    "18. A série de Fibonacci é formada pela seqüência 1,1,2,3,5,8,13,21,34,55,... Faça um\n",
    "programa capaz de gerar a série até o n−ésimo termo."
   ]
  },
  {
   "cell_type": "code",
   "execution_count": 40,
   "metadata": {},
   "outputs": [
    {
     "name": "stdout",
     "output_type": "stream",
     "text": [
      "Digite o numero: 5\n",
      "120\n"
     ]
    }
   ],
   "source": [
    "n = int(input(\"Digite o numero: \"))\n",
    "fat = 1\n",
    "x = 1\n",
    "\n",
    "while x <= n:\n",
    "    fat *= x\n",
    "    x += 1\n",
    "    \n",
    "print(fat)"
   ]
  },
  {
   "cell_type": "markdown",
   "metadata": {},
   "source": [
    "19. Faça um programa que calcule o fatorial de um número inteiro fornecido pelo\n",
    "usuário. Ex.: 5!=5.4.3.2.1=120"
   ]
  },
  {
   "cell_type": "code",
   "execution_count": 43,
   "metadata": {},
   "outputs": [
    {
     "name": "stdout",
     "output_type": "stream",
     "text": [
      "Digite o numero para ver o fibonacci: 5\n",
      "3\n"
     ]
    }
   ],
   "source": [
    "def fibonacci(n): \n",
    "    a = 0\n",
    "    b = 1\n",
    "    if n < 0: \n",
    "        print(\"Incorrect input\") \n",
    "    elif n == 0: \n",
    "        return a \n",
    "    elif n == 1: \n",
    "        return b \n",
    "    else: \n",
    "        for i in range(2,n): \n",
    "            c = a + b \n",
    "            a = b \n",
    "            b = c \n",
    "        return b \n",
    "n = int(input(\"Digite o numero para ver o fibonacci: \"))\n",
    "print(fibonacci(n)) "
   ]
  },
  {
   "cell_type": "markdown",
   "metadata": {},
   "source": [
    "20. O Sr. Manoel Joaquim possui uma grande loja de artigos de R$ 1,99, com cerca\n",
    "de 10 caixas. Para agilizar o cálculo de quanto cada cliente deve pagar ele\n",
    "desenvolveu um tabela que contém o número de itens que o cliente comprou e ao\n",
    "lado o valor da conta. Desta forma a atendente do caixa precisa apenas contar\n",
    "quantos itens o cliente está levando e olhar na tabela de preços. Você foi contratado\n",
    "para desenvolver o programa que monta esta tabela de preços, que conterá os\n",
    "preços de 1 até 50 produtos, conforme o exemplo abaixo:\n",
    "Lojas Quase Dois - Tabela de preços\n",
    "1 - R$ 1.99\n",
    "2 - R$ 3.98\n",
    "...\n",
    "50 - R$ 99.50"
   ]
  },
  {
   "cell_type": "code",
   "execution_count": 56,
   "metadata": {},
   "outputs": [
    {
     "name": "stdout",
     "output_type": "stream",
     "text": [
      "{1: 1.99, 2: 3.98, 3: 5.97, 4: 7.96, 5: 9.95, 6: 11.94, 7: 13.93, 8: 15.92, 9: 17.91, 10: 19.9, 11: 21.89, 12: 23.88, 13: 25.87, 14: 27.86, 15: 29.85, 16: 31.84, 17: 33.83, 18: 35.82, 19: 37.81, 20: 39.8, 21: 41.79, 22: 43.78, 23: 45.77, 24: 47.76, 25: 49.75, 26: 51.74, 27: 53.73, 28: 55.72, 29: 57.71, 30: 59.7, 31: 61.69, 32: 63.68, 33: 65.67, 34: 67.66, 35: 69.65, 36: 71.64, 37: 73.63, 38: 75.62, 39: 77.61, 40: 79.6, 41: 81.59, 42: 83.58, 43: 85.57, 44: 87.56, 45: 89.55, 46: 91.54, 47: 93.53, 48: 95.52, 49: 97.51, 50: 99.5}\n",
      "{1: 0.18, 2: 0.36, 3: 0.54, 4: 0.72, 5: 0.9, 6: 1.08, 7: 1.26, 8: 1.44, 9: 1.62, 10: 1.8, 11: 1.98, 12: 2.16, 13: 2.34, 14: 2.52, 15: 2.7, 16: 2.88, 17: 3.06, 18: 3.24, 19: 3.42, 20: 3.6, 21: 3.78, 22: 3.96, 23: 4.14, 24: 4.32, 25: 4.5, 26: 4.68, 27: 4.86, 28: 5.04, 29: 5.22, 30: 5.4, 31: 5.58, 32: 5.76, 33: 5.94, 34: 6.12, 35: 6.3, 36: 6.48, 37: 6.66, 38: 6.84, 39: 7.02, 40: 7.2, 41: 7.38, 42: 7.56, 43: 7.74, 44: 7.92, 45: 8.1, 46: 8.28, 47: 8.46, 48: 8.64, 49: 8.82, 50: 9.0}\n"
     ]
    }
   ],
   "source": [
    "def montar_tabela(preco_base):\n",
    "    tabela_precos = dict()\n",
    "    valor = preco_base\n",
    "    result = 0\n",
    "\n",
    "    for i in range(1, 51):\n",
    "        tabela_precos[i] = round((valor + result),2)\n",
    "        result += valor\n",
    "    return(tabela_precos)\n",
    "\n",
    "print(montar_tabela(1.99))\n",
    "print(montar_tabela(0.18))"
   ]
  },
  {
   "cell_type": "markdown",
   "metadata": {},
   "source": [
    "21. O Sr. Manoel Joaquim acaba de adquirir uma panificadora e pretende implantar\n",
    "a metodologia da tabelinha, que já é um sucesso na sua loja de 1,99. Você foi\n",
    "contratado para desenvolver o programa que monta a tabela de preços de pães, de\n",
    "1 até 50 pães, a partir do preço do pão informado pelo usuário, conforme o exemplo\n",
    "abaixo:\n",
    "Preço do pão: R$ 0.18\n",
    "Panificadora Pão de Ontem - Tabela de preços\n",
    "1 - R$ 0.18\n",
    "2 - R$ 0.36\n",
    "\n",
    "...\n",
    "50 - R$ 9.00"
   ]
  },
  {
   "cell_type": "code",
   "execution_count": 59,
   "metadata": {},
   "outputs": [
    {
     "name": "stdout",
     "output_type": "stream",
     "text": [
      "Digite o valor de um produto: 8.8\n",
      "Digite o valor de um produto: 9\n",
      "Digite o valor de um produto: 10\n",
      "Digite o valor de um produto: 88\n",
      "Digite o valor de um produto: 0\n",
      "Total: 115.8\n",
      "Digite o valor recebido: 200\n",
      "Troco: 84.2\n"
     ]
    }
   ],
   "source": [
    "valor = \"\"\n",
    "produtos = dict()\n",
    "index = 1\n",
    "\n",
    "while valor != 0.0:\n",
    "    valor = float(input(\"Digite o valor de um produto: \"))\n",
    "    produtos[index] = valor\n",
    "    index +=1\n",
    "\n",
    "print(f\"Total: {sum(produtos.values())}\")\n",
    "print(f\"Produtos: {produtos}\")\n",
    "\n",
    "pagamento = float(input(\"Digite o valor recebido: \"))\n",
    "if pagamento - sum(produtos.values()) > 0:\n",
    "    print(f\"Troco: {pagamento - sum(produtos.values())}\")\n",
    "else:\n",
    "    print(\"Chama a policia\")\n",
    "\n"
   ]
  },
  {
   "cell_type": "markdown",
   "metadata": {},
   "source": [
    "23. Foi feita uma estatística em cinco cidades brasileiras para coletar dados sobre\n",
    "acidentes de trânsito. Foram obtidos os seguintes dados:\n",
    "- Código da cidade;\n",
    "- Número de veículos de passeio (em 1999);\n",
    "- Número de acidentes de trânsito com vítimas (em 1999). Deseja-se saber:\n",
    "- Qual o maior e menor índice de acidentes de transito e a que cidade pertence;\n",
    "- Qual a média de veículos nas cinco cidades juntas;\n",
    "- Qual a média de acidentes de trânsito nas cidades com menos de 2.000 veículos de\n",
    "passeio."
   ]
  },
  {
   "cell_type": "code",
   "execution_count": 24,
   "metadata": {},
   "outputs": [
    {
     "name": "stdout",
     "output_type": "stream",
     "text": [
      "{'Menor': {'NOME': 'Bauru', 'Acidentes': 5}, 'Maior': {'NOME': 'Minas', 'Acidentes': 500}}\n",
      "2000.0\n",
      "252.5\n"
     ]
    }
   ],
   "source": [
    "ibge = {\n",
    "        1: {\"Nome\":\"Bauru\",\n",
    "           \"Acidentes\":5,\n",
    "           \"Veiculos\":2000\n",
    "           },\n",
    "        2: {\"Nome\":\"Minas\",\n",
    "           \"Acidentes\":500,\n",
    "           \"Veiculos\":2000\n",
    "           }\n",
    "       }\n",
    "\n",
    "acidentes_dict = dict()\n",
    "\n",
    "menor = ibge.get(1).get(\"Acidentes\")\n",
    "maior = ibge.get(1).get(\"Acidentes\")\n",
    "\n",
    "veiculos = 0\n",
    "acidentes_menor = 0\n",
    "count_acidentes_menor = 0\n",
    "\n",
    "for k, v in ibge.items():\n",
    "    veiculos += ibge[k].get(\"Veiculos\")\n",
    "    for item, desc in v.items():\n",
    "        if item == \"Acidentes\":\n",
    "            if desc <= menor:\n",
    "                acidentes_dict[\"Menor\"] = { \"NOME\":ibge[k].get(\"Nome\"), \"Acidentes\" : desc }\n",
    "            if desc >= maior:\n",
    "                acidentes_dict[\"Maior\"] = { \"NOME\":ibge[k].get(\"Nome\"), \"Acidentes\" : desc }\n",
    "        if item == \"Veiculos\" and desc <= 2000:\n",
    "            acidentes_menor += ibge[k].get(\"Acidentes\")\n",
    "            count_acidentes_menor +=1\n",
    "            \n",
    "\n",
    "print(acidentes_dict)\n",
    "print(veiculos/len(ibge.keys()))\n",
    "print(acidentes_menor/count_acidentes_menor)\n",
    "\n",
    "        "
   ]
  },
  {
   "cell_type": "markdown",
   "metadata": {},
   "source": [
    "24. Faça um programa que receba o valor de uma dívida e mostre uma tabela com\n",
    "os seguintes dados: valor da dívida, valor dos juros, quantidade de parcelas e valor\n",
    "da parcela.\n",
    "Os juros e a quantidade de parcelas seguem a tabela abaixo:\n",
    "Quantidade de Parcelas % de Juros sobre o valor inicial da dívida\n",
    "1 0\n",
    "3 10\n",
    "6 15\n",
    "9 20\n",
    "12 25\n",
    "Exemplo de saída do programa:\n",
    "Valor da Dívida Valor dos Juros Quantidade de Parcelas Valor da Parcela\n",
    "R$ 1.000,00 0 1 R$ 1.000,00\n",
    "R$ 1.100,00 100 3 R$ 366,00\n",
    "R$ 1.150,00 150 6 R$ 191,67"
   ]
  },
  {
   "cell_type": "code",
   "execution_count": 35,
   "metadata": {},
   "outputs": [
    {
     "name": "stdout",
     "output_type": "stream",
     "text": [
      "Digite o preco do produto: 100\n",
      "Digite o numero de parcelas 1/3/6/9/12: 3\n",
      "Divida: 110.0, Juros: 10.0, Parcelas: 3, Valor Parcela: 36.67\n"
     ]
    }
   ],
   "source": [
    "parcelas_juros = {1:0.0, 3:0.1, 6:0.15, 9:0.2, 12:0.25}\n",
    "\n",
    "preco_produto = float(input(\"Digite o preco do produto: \"))\n",
    "parcelas = int(input(\"Digite o numero de parcelas 1/3/6/9/12: \"))\n",
    "\n",
    "juros = preco_produto * parcelas_juros[parcelas]\n",
    "preco_final = preco_produto + juros\n",
    "\n",
    "valor_parcela = preco_final / parcelas\n",
    "\n",
    "print(f\"Divida: {preco_final}, Juros: {juros}, Parcelas: {parcelas}, Valor Parcela: {round(valor_parcela,2)}\")"
   ]
  }
 ],
 "metadata": {
  "kernelspec": {
   "display_name": "Python 3",
   "language": "python",
   "name": "python3"
  },
  "language_info": {
   "codemirror_mode": {
    "name": "ipython",
    "version": 3
   },
   "file_extension": ".py",
   "mimetype": "text/x-python",
   "name": "python",
   "nbconvert_exporter": "python",
   "pygments_lexer": "ipython3",
   "version": "3.6.7"
  }
 },
 "nbformat": 4,
 "nbformat_minor": 2
}
