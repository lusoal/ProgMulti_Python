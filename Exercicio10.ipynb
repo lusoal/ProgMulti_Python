{
 "cells": [
  {
   "cell_type": "code",
   "execution_count": 1,
   "metadata": {},
   "outputs": [
    {
     "name": "stdout",
     "output_type": "stream",
     "text": [
      "Digite um numero: 2\n",
      "Digite outro numero: 5\n",
      "Maior numero 5\n"
     ]
    }
   ],
   "source": [
    "n1 = int(input(\"Digite um numero: \"))\n",
    "n2 = int(input(\"Digite outro numero: \"))\n",
    "\n",
    "if n1 > n2:\n",
    "    print(f\"Maior numero {n1}\")\n",
    "else:\n",
    "    print(f\"Maior numero {n2}\")"
   ]
  },
  {
   "cell_type": "code",
   "execution_count": 3,
   "metadata": {},
   "outputs": [
    {
     "name": "stdout",
     "output_type": "stream",
     "text": [
      "Digite uma letrap\n"
     ]
    }
   ],
   "source": [
    "vogal = ['A', 'E', 'I', 'O', 'U']\n",
    "\n",
    "letra = input(\"Digite uma letra: \")\n",
    "\n",
    "if letra.upper() in vogal:\n",
    "    print(f\"A letra {letra} e uma vogal\")\n",
    "else:\n",
    "    print(f\"A letra {letra} nao e uma vogal\")"
   ]
  },
  {
   "cell_type": "code",
   "execution_count": 10,
   "metadata": {},
   "outputs": [
    {
     "name": "stdout",
     "output_type": "stream",
     "text": [
      "7.5\n",
      "Aprovado\n"
     ]
    }
   ],
   "source": [
    "nota1 = 5\n",
    "nota2 = 10\n",
    "\n",
    "media = (nota1 + nota2 )/ 2\n",
    "\n",
    "if media >= 7 and media < 10:\n",
    "    print(\"Aprovado\")\n",
    "elif media <= 5:\n",
    "    print(\"Reprovado\")\n",
    "else:\n",
    "    print(\"Aprovado com Distinção\")"
   ]
  },
  {
   "cell_type": "code",
   "execution_count": 19,
   "metadata": {},
   "outputs": [
    {
     "name": "stdout",
     "output_type": "stream",
     "text": [
      "7 5 2\n"
     ]
    }
   ],
   "source": [
    "lista_numeros = list()\n",
    "\n",
    "n1 = 5\n",
    "n2 = 2\n",
    "n3 = 7\n",
    "\n",
    "lista_numeros = [n1, n2, n3]\n",
    "lista_numeros = sorted(lista_numeros)[::-1]\n",
    "lista_numeros = list(map(str, lista_numeros))\n",
    "\n",
    "print(' '.join(lista_numeros))\n"
   ]
  },
  {
   "cell_type": "code",
   "execution_count": 22,
   "metadata": {},
   "outputs": [
    {
     "name": "stdout",
     "output_type": "stream",
     "text": [
      "1600 80.0 1680.0 5%\n"
     ]
    }
   ],
   "source": [
    "salario = 1600\n",
    "aumento = 0\n",
    "salario_total = 0\n",
    "percentual = \"\"\n",
    "\n",
    "if salario <= 280:\n",
    "    aumento = salario*0.20\n",
    "    salario_total = salario + aumento\n",
    "    percentual = \"20%\"\n",
    "elif salario > 280 and salario <= 700:\n",
    "    aumento = salario*0.20\n",
    "    salario_total = salario + aumento\n",
    "    percentual = \"20%\"\n",
    "elif salario > 700 and salario <= 1500:\n",
    "    aumento = salario*0.10\n",
    "    salario_total = salario + aumento\n",
    "    percentual = \"10%\"\n",
    "elif salario > 1500:\n",
    "    aumento = salario*0.05\n",
    "    salario_total = salario + aumento\n",
    "    percentual = \"5%\"\n",
    "\n",
    "print(f\"{salario} {aumento} {salario_total} {percentual}\")\n"
   ]
  },
  {
   "cell_type": "code",
   "execution_count": 24,
   "metadata": {},
   "outputs": [
    {
     "name": "stdout",
     "output_type": "stream",
     "text": [
      "Digite um numero correspondente ao dia da semana: 8\n",
      "Invalido\n"
     ]
    }
   ],
   "source": [
    "dias_semana = {1:'Domingo', 2:'Segunda', 3:'Terca', 4:'Quarta', 5:'Quinta', 6:'Sexta', 7:'Sabado'}\n",
    "\n",
    "dia = int(input(\"Digite um numero correspondente ao dia da semana: \"))\n",
    "\n",
    "if dia in dias_semana.keys():\n",
    "    print(dias_semana[dia])\n",
    "else:\n",
    "    print(\"Invalido\")"
   ]
  },
  {
   "cell_type": "code",
   "execution_count": 29,
   "metadata": {},
   "outputs": [
    {
     "name": "stdout",
     "output_type": "stream",
     "text": [
      "Digite o valor da primeira nota: 5\n",
      "Digite o valor da segunda nota: 10\n",
      "7.5\n",
      "A nota da primeira prova:  5\n",
      "A nota da segunda prova:  10\n",
      "——————————\n",
      "Você tirou um B!\n",
      "Sua media é de: 7.5\n",
      "você foi aprovado!!\n"
     ]
    }
   ],
   "source": [
    "n1 = int(input(\"Digite o valor da primeira nota: \"))\n",
    "n2 = int(input(\"Digite o valor da segunda nota: \"))\n",
    "\n",
    "nota = (n1 + n2)/2\n",
    "print(nota)\n",
    "\n",
    "if nota >= 9 and nota <= 10:\n",
    "    print( \"A nota da primeira prova: \",n1)\n",
    "    print( \"A nota da segunda prova: \",n2)\n",
    "    print( \"——————————\")\n",
    "    print( \"Você tirou um A!\")\n",
    "    print( \"Sua media é de:\",nota)\n",
    "    print( \"você foi aprovado!!\")\n",
    "\n",
    "elif nota >= 7.5 and nota < 9:\n",
    "    print( \"A nota da primeira prova: \",n1)\n",
    "    print( \"A nota da segunda prova: \",n2)\n",
    "    print( \"——————————\")\n",
    "    print( \"Você tirou um B!\")\n",
    "    print( \"Sua media é de:\",nota)\n",
    "    print( \"você foi aprovado!!\")\n",
    "\n",
    "elif nota >= 6.5 and nota < 7.5:\n",
    "    print( \"A nota da primeira prova: \",n1)\n",
    "    print( \"A nota da segunda prova: \",n2)\n",
    "    print( \"——————————\")\n",
    "    print( \"Você tirou um C!\")\n",
    "    print( \"Sua media é de:\",nota)\n",
    "    print( \"você foi aprovado!!\")\n",
    "\n",
    "elif nota >= 4 and nota < 6:\n",
    "    print( \"A nota da primeira prova: \",n1)\n",
    "    print( \"A nota da segunda prova: \",n2)\n",
    "    print( \"——————————\")\n",
    "    print( \"Você tirou um D!\")\n",
    "    print( \"Sua media é de:\",nota)\n",
    "    print( \"você foi reprovado!!\")\n",
    "\n",
    "elif nota < 4:\n",
    "    print( \"A nota da primeira prova: \",n1)\n",
    "    print( \"A nota da segunda prova: \",n2)\n",
    "    print( \"——————————\")\n",
    "    print( \"Você tirou um E!\")\n",
    "    print( \"Sua media é de:\",nota)\n",
    "    print( \"você foi reprovado!!\")"
   ]
  },
  {
   "cell_type": "code",
   "execution_count": 34,
   "metadata": {},
   "outputs": [
    {
     "name": "stdout",
     "output_type": "stream",
     "text": [
      "Digite o tamanho do primeiro lado: 5\n",
      "Digite o segundo lado: 5\n",
      "Digite o segundo lado: 5\n",
      "Triângulo Equilátero\n"
     ]
    }
   ],
   "source": [
    "l1 = input('Digite o tamanho do primeiro lado: ')\n",
    "l2 = input('Digite o segundo lado: ')\n",
    "l3 = input('Digite o segundo lado: ')\n",
    "\n",
    "if l1 + l2 > l3:\n",
    "    if l1 == l2 and l1 == l3:\n",
    "        print ('Triângulo Equilátero')\n",
    "    elif l1 == l2 or l2 == l3 or l1 == l3:\n",
    "        print ('Triângulo Isósceles')\n",
    "    elif l1 != l2 and l3 or l2 != l1 and l3 or l1 != l3:\n",
    "        print ('Triângulo Escaleno')\n",
    "\n",
    "else:\n",
    "    print ('É impossivel ser um triângulo')"
   ]
  }
 ],
 "metadata": {
  "kernelspec": {
   "display_name": "Python 3",
   "language": "python",
   "name": "python3"
  },
  "language_info": {
   "codemirror_mode": {
    "name": "ipython",
    "version": 3
   },
   "file_extension": ".py",
   "mimetype": "text/x-python",
   "name": "python",
   "nbconvert_exporter": "python",
   "pygments_lexer": "ipython3",
   "version": "3.6.7"
  }
 },
 "nbformat": 4,
 "nbformat_minor": 2
}
