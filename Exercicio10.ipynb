{
 "cells": [
  {
   "cell_type": "code",
   "execution_count": 1,
   "metadata": {},
   "outputs": [
    {
     "name": "stdout",
     "output_type": "stream",
     "text": [
      "Digite um numero: 2\n",
      "Digite outro numero: 5\n",
      "Maior numero 5\n"
     ]
    }
   ],
   "source": [
    "n1 = int(input(\"Digite um numero: \"))\n",
    "n2 = int(input(\"Digite outro numero: \"))\n",
    "\n",
    "if n1 > n2:\n",
    "    print(f\"Maior numero {n1}\")\n",
    "else:\n",
    "    print(f\"Maior numero {n2}\")"
   ]
  },
  {
   "cell_type": "code",
   "execution_count": 3,
   "metadata": {},
   "outputs": [
    {
     "name": "stdout",
     "output_type": "stream",
     "text": [
      "Digite uma letrap\n"
     ]
    }
   ],
   "source": [
    "vogal = ['A', 'E', 'I', 'O', 'U']\n",
    "\n",
    "letra = input(\"Digite uma letra: \")\n",
    "\n",
    "if letra.upper() in vogal:\n",
    "    print(f\"A letra {letra} e uma vogal\")\n",
    "else:\n",
    "    print(f\"A letra {letra} nao e uma vogal\")"
   ]
  },
  {
   "cell_type": "code",
   "execution_count": 10,
   "metadata": {},
   "outputs": [
    {
     "name": "stdout",
     "output_type": "stream",
     "text": [
      "7.5\n",
      "Aprovado\n"
     ]
    }
   ],
   "source": [
    "nota1 = 5\n",
    "nota2 = 10\n",
    "\n",
    "media = (nota1 + nota2 )/ 2\n",
    "\n",
    "if media >= 7 and media < 10:\n",
    "    print(\"Aprovado\")\n",
    "elif media <= 5:\n",
    "    print(\"Reprovado\")\n",
    "else:\n",
    "    print(\"Aprovado com Distinção\")"
   ]
  },
  {
   "cell_type": "code",
   "execution_count": 19,
   "metadata": {},
   "outputs": [
    {
     "name": "stdout",
     "output_type": "stream",
     "text": [
      "7 5 2\n"
     ]
    }
   ],
   "source": [
    "lista_numeros = list()\n",
    "\n",
    "n1 = 5\n",
    "n2 = 2\n",
    "n3 = 7\n",
    "\n",
    "lista_numeros = [n1, n2, n3]\n",
    "lista_numeros = sorted(lista_numeros)[::-1]\n",
    "lista_numeros = list(map(str, lista_numeros))\n",
    "\n",
    "print(' '.join(lista_numeros))\n"
   ]
  },
  {
   "cell_type": "code",
   "execution_count": 22,
   "metadata": {},
   "outputs": [
    {
     "name": "stdout",
     "output_type": "stream",
     "text": [
      "1600 80.0 1680.0 5%\n"
     ]
    }
   ],
   "source": [
    "salario = 1600\n",
    "aumento = 0\n",
    "salario_total = 0\n",
    "percentual = \"\"\n",
    "\n",
    "if salario <= 280:\n",
    "    aumento = salario*0.20\n",
    "    salario_total = salario + aumento\n",
    "    percentual = \"20%\"\n",
    "elif salario > 280 and salario <= 700:\n",
    "    aumento = salario*0.20\n",
    "    salario_total = salario + aumento\n",
    "    percentual = \"20%\"\n",
    "elif salario > 700 and salario <= 1500:\n",
    "    aumento = salario*0.10\n",
    "    salario_total = salario + aumento\n",
    "    percentual = \"10%\"\n",
    "elif salario > 1500:\n",
    "    aumento = salario*0.05\n",
    "    salario_total = salario + aumento\n",
    "    percentual = \"5%\"\n",
    "\n",
    "print(f\"{salario} {aumento} {salario_total} {percentual}\")\n"
   ]
  },
  {
   "cell_type": "code",
   "execution_count": 24,
   "metadata": {},
   "outputs": [
    {
     "name": "stdout",
     "output_type": "stream",
     "text": [
      "Digite um numero correspondente ao dia da semana: 8\n",
      "Invalido\n"
     ]
    }
   ],
   "source": [
    "dias_semana = {1:'Domingo', 2:'Segunda', 3:'Terca', 4:'Quarta', 5:'Quinta', 6:'Sexta', 7:'Sabado'}\n",
    "\n",
    "dia = int(input(\"Digite um numero correspondente ao dia da semana: \"))\n",
    "\n",
    "if dia in dias_semana.keys():\n",
    "    print(dias_semana[dia])\n",
    "else:\n",
    "    print(\"Invalido\")"
   ]
  },
  {
   "cell_type": "code",
   "execution_count": 29,
   "metadata": {},
   "outputs": [
    {
     "name": "stdout",
     "output_type": "stream",
     "text": [
      "Digite o valor da primeira nota: 5\n",
      "Digite o valor da segunda nota: 10\n",
      "7.5\n",
      "A nota da primeira prova:  5\n",
      "A nota da segunda prova:  10\n",
      "——————————\n",
      "Você tirou um B!\n",
      "Sua media é de: 7.5\n",
      "você foi aprovado!!\n"
     ]
    }
   ],
   "source": [
    "n1 = int(input(\"Digite o valor da primeira nota: \"))\n",
    "n2 = int(input(\"Digite o valor da segunda nota: \"))\n",
    "\n",
    "nota = (n1 + n2)/2\n",
    "print(nota)\n",
    "\n",
    "if nota >= 9 and nota <= 10:\n",
    "    print( \"A nota da primeira prova: \",n1)\n",
    "    print( \"A nota da segunda prova: \",n2)\n",
    "    print( \"——————————\")\n",
    "    print( \"Você tirou um A!\")\n",
    "    print( \"Sua media é de:\",nota)\n",
    "    print( \"você foi aprovado!!\")\n",
    "\n",
    "elif nota >= 7.5 and nota < 9:\n",
    "    print( \"A nota da primeira prova: \",n1)\n",
    "    print( \"A nota da segunda prova: \",n2)\n",
    "    print( \"——————————\")\n",
    "    print( \"Você tirou um B!\")\n",
    "    print( \"Sua media é de:\",nota)\n",
    "    print( \"você foi aprovado!!\")\n",
    "\n",
    "elif nota >= 6.5 and nota < 7.5:\n",
    "    print( \"A nota da primeira prova: \",n1)\n",
    "    print( \"A nota da segunda prova: \",n2)\n",
    "    print( \"——————————\")\n",
    "    print( \"Você tirou um C!\")\n",
    "    print( \"Sua media é de:\",nota)\n",
    "    print( \"você foi aprovado!!\")\n",
    "\n",
    "elif nota >= 4 and nota < 6:\n",
    "    print( \"A nota da primeira prova: \",n1)\n",
    "    print( \"A nota da segunda prova: \",n2)\n",
    "    print( \"——————————\")\n",
    "    print( \"Você tirou um D!\")\n",
    "    print( \"Sua media é de:\",nota)\n",
    "    print( \"você foi reprovado!!\")\n",
    "\n",
    "elif nota < 4:\n",
    "    print( \"A nota da primeira prova: \",n1)\n",
    "    print( \"A nota da segunda prova: \",n2)\n",
    "    print( \"——————————\")\n",
    "    print( \"Você tirou um E!\")\n",
    "    print( \"Sua media é de:\",nota)\n",
    "    print( \"você foi reprovado!!\")"
   ]
  },
  {
   "cell_type": "code",
   "execution_count": 34,
   "metadata": {},
   "outputs": [
    {
     "name": "stdout",
     "output_type": "stream",
     "text": [
      "Digite o tamanho do primeiro lado: 5\n",
      "Digite o segundo lado: 5\n",
      "Digite o segundo lado: 5\n",
      "Triângulo Equilátero\n"
     ]
    }
   ],
   "source": [
    "l1 = input('Digite o tamanho do primeiro lado: ')\n",
    "l2 = input('Digite o segundo lado: ')\n",
    "l3 = input('Digite o segundo lado: ')\n",
    "\n",
    "if l1 + l2 > l3:\n",
    "    if l1 == l2 and l1 == l3:\n",
    "        print ('Triângulo Equilátero')\n",
    "    elif l1 == l2 or l2 == l3 or l1 == l3:\n",
    "        print ('Triângulo Isósceles')\n",
    "    elif l1 != l2 and l3 or l2 != l1 and l3 or l1 != l3:\n",
    "        print ('Triângulo Escaleno')\n",
    "\n",
    "else:\n",
    "    print ('É impossivel ser um triângulo')"
   ]
  },
  {
   "cell_type": "code",
   "execution_count": 8,
   "metadata": {},
   "outputs": [
    {
     "name": "stdout",
     "output_type": "stream",
     "text": [
      "digite o valor de a1\n",
      "digite o valor de b10\n",
      "digite o valor de c1\n",
      "A: -5.101020514433644, B: -14.898979485566356\n"
     ]
    }
   ],
   "source": [
    "a = float(input(\"digite o valor de a\"))\n",
    "delta = True\n",
    "\n",
    "if a == 0:\n",
    "    print(\"Nao e 2 grau\")\n",
    "    delta = False\n",
    "else:\n",
    "    b = float(input(\"digite o valor de b\"))\n",
    "    c = float(input(\"digite o valor de c\"))\n",
    "\n",
    "if (delta):\n",
    "    eqb = 0\n",
    "    eqA = 0\n",
    "    delta = (b**2)-(4*a*c)\n",
    "    if delta <0:\n",
    "        print(\"Nao possui raizes reais\")\n",
    "    elif delta == 0:\n",
    "        print(\"Possui apenas uma raiz real\")\n",
    "    else:\n",
    "        #Calcular com delta\n",
    "        eqA = -b + (delta ** 0.5) / (2*a)\n",
    "        eqB = -b - (delta ** 0.5) / (2*a)\n",
    "        print(f\"A: {eqA}, B: {eqB}\")\n",
    "        \n",
    " "
   ]
  },
  {
   "cell_type": "code",
   "execution_count": 20,
   "metadata": {},
   "outputs": [
    {
     "name": "stdout",
     "output_type": "stream",
     "text": [
      "Digite o valor que voce quer sacar: 75\n",
      "[50, 10, 10, 5]\n"
     ]
    }
   ],
   "source": [
    "valor = float(input(\"Digite o valor que voce quer sacar: \"))\n",
    "\n",
    "notas_disp = [100, 50, 10, 5, 1]\n",
    "nota = []\n",
    "\n",
    "if valor >= 10 and valor <=600:\n",
    "    count = 0\n",
    "    while valor > 0:\n",
    "        if (valor - notas_disp[count]) >= 0:\n",
    "            nota.append(notas_disp[count])\n",
    "            valor = valor - notas_disp[count]\n",
    "        else:\n",
    "            count +=1\n",
    "print(nota)\n",
    "    \n",
    "    "
   ]
  },
  {
   "cell_type": "code",
   "execution_count": 20,
   "metadata": {},
   "outputs": [
    {
     "name": "stdout",
     "output_type": "stream",
     "text": [
      "Telefonou para a vítima? S/NN\n",
      "Esteve no local do crime? S/NN\n",
      "Mora perto da vítima? S/NS\n",
      "Devia para a vítima? S/NN\n",
      "Já trabalhou com a vítima? S/NS\n",
      "Suspeita\n"
     ]
    }
   ],
   "source": [
    "perguntas = {'Telefonou para a vítima?':False, 'Esteve no local do crime?':False, \n",
    "             'Mora perto da vítima?':False, 'Devia para a vítima?':False, 'Já trabalhou com a vítima?':False}\n",
    "for pergunta in perguntas:\n",
    "    resposta = input(f\"{pergunta} S/N: \").upper()\n",
    "    if resposta == 'S':\n",
    "        perguntas[pergunta] = True\n",
    "respostas = sum(perguntas.values())\n",
    "\n",
    "if respostas == 2:\n",
    "    print(\"Suspeita\")\n",
    "elif respostas >2 and respostas <=4:\n",
    "    print(\"Cumplice\")\n",
    "elif respostas >4:\n",
    "    print(\"Assasino\")\n",
    "else:\n",
    "    print(\"Inocente\")\n",
    "    "
   ]
  },
  {
   "cell_type": "code",
   "execution_count": 30,
   "metadata": {},
   "outputs": [
    {
     "name": "stdout",
     "output_type": "stream",
     "text": [
      "Valor total: 23.4\n"
     ]
    }
   ],
   "source": [
    "frutas = {'Morango':[2.50, 2.20], 'Maca':[1.80, 1.50]}\n",
    "\n",
    "kg_morango = 5\n",
    "kg_maca = 10\n",
    "\n",
    "kilos = [kg_morango, kg_maca]\n",
    "valor_total = 0\n",
    "\n",
    "for fruta, kg in zip(frutas, kilos):\n",
    "    if kg_morango > 5 or kg_maca > 5:\n",
    "        valor_total += frutas[fruta][1] * kg\n",
    "    else:\n",
    "        valor_total += frutas[fruta][0] * kg\n",
    "\n",
    "if valor_total > 25:\n",
    "    valor_total = valor_total - (valor_total*0.1)\n",
    "    \n",
    "print(f\"Valor total: {valor_total}\")"
   ]
  },
  {
   "cell_type": "code",
   "execution_count": 51,
   "metadata": {},
   "outputs": [
    {
     "name": "stdout",
     "output_type": "stream",
     "text": [
      "Digite uma nota: 12\n",
      "Nota invalida\n",
      "Digite uma nota: 12\n",
      "Nota invalida\n",
      "Digite uma nota: 12\n",
      "Nota invalida\n",
      "Digite uma nota: 12\n",
      "Nota invalida\n",
      "Digite uma nota: 12\n",
      "Nota invalida\n",
      "Digite uma nota: 10\n"
     ]
    }
   ],
   "source": [
    "while True:\n",
    "    nota = int(input(\"Digite uma nota: \"))\n",
    "    if (nota < 0 or nota > 10):\n",
    "        nota-=1\n",
    "        print(\"Nota invalida\")\n",
    "    else:\n",
    "        break"
   ]
  },
  {
   "cell_type": "code",
   "execution_count": 6,
   "metadata": {},
   "outputs": [
    {
     "name": "stdout",
     "output_type": "stream",
     "text": [
      "Digite seu(a) Nome: Lucas\n",
      "Digite seu(a) Idade: 21\n",
      "Digite seu(a) Salario: 200\n",
      "Digite seu(a) Sexo: m\n",
      "Digite seu(a) Estado_Civil: c\n"
     ]
    }
   ],
   "source": [
    "validar = {\"Nome\":False, \"Idade\":False, \"Salario\":False, \"Sexo\":False, \"Estado_Civil\":False}\n",
    "\n",
    "for k, v in validar.items():\n",
    "    to_validate = input(f\"Digite seu(a) {k}: \")\n",
    "    if \"Nome\" in k:\n",
    "        if len(to_validate) > 3:\n",
    "            validar[k] = True\n",
    "    elif \"Idade\" in k:\n",
    "        if int(to_validate) > 0 and int(to_validate) <= 150:\n",
    "            validar[k] = True\n",
    "    elif \"Salario\" in k:\n",
    "        if int(to_validate) > 0:\n",
    "            validar[k] = True\n",
    "    elif \"Sexo\" in k:\n",
    "        if to_validate == \"m\" or to_validate == \"f\":\n",
    "            validar[k] = True\n",
    "    elif \"Estado_Civil\" in k:\n",
    "        if to_validate in [\"s\", \"c\", \"v\", \"d\"]:\n",
    "            validar[k] = True\n",
    "print(validar)      "
   ]
  },
  {
   "cell_type": "code",
   "execution_count": 11,
   "metadata": {},
   "outputs": [
    {
     "name": "stdout",
     "output_type": "stream",
     "text": [
      "Digite um numero: 1\n",
      "Digite um numero: 2\n",
      "Digite um numero: 3\n",
      "Digite um numero: 66\n",
      "Digite um numero: 5\n",
      "66\n"
     ]
    }
   ],
   "source": [
    "lista_num = list()\n",
    "\n",
    "for i in range(0,5):\n",
    "    numero = int(input(\"Digite um numero: \"))\n",
    "    lista_num.append(numero)\n",
    "\n",
    "print(max(lista_num))"
   ]
  },
  {
   "cell_type": "code",
   "execution_count": 18,
   "metadata": {},
   "outputs": [
    {
     "name": "stdout",
     "output_type": "stream",
     "text": [
      "1\n",
      "3\n",
      "5\n",
      "7\n",
      "9\n",
      "11\n",
      "13\n",
      "15\n",
      "17\n",
      "19\n",
      "21\n",
      "23\n",
      "25\n",
      "27\n",
      "29\n",
      "31\n",
      "33\n",
      "35\n",
      "37\n",
      "39\n",
      "41\n",
      "43\n",
      "45\n",
      "47\n",
      "49\n"
     ]
    }
   ],
   "source": [
    "for i in range(1, 51):\n",
    "    if (i%2) != 0:\n",
    "        print(i)"
   ]
  },
  {
   "cell_type": "code",
   "execution_count": 25,
   "metadata": {},
   "outputs": [
    {
     "name": "stdout",
     "output_type": "stream",
     "text": [
      "Digite o numero que voce que ver a tabuada: 8\n",
      "1 X 8 = 8\n",
      "2 X 8 = 16\n",
      "3 X 8 = 24\n",
      "4 X 8 = 32\n",
      "5 X 8 = 40\n",
      "6 X 8 = 48\n",
      "7 X 8 = 56\n",
      "8 X 8 = 64\n",
      "9 X 8 = 72\n",
      "10 X 8 = 80\n"
     ]
    }
   ],
   "source": [
    "numero = int(input(\"Digite o numero que voce que ver a tabuada: \"))\n",
    "for i in range(1, 11):\n",
    "    print(f\"{i} X {numero} = {i*numero}\")"
   ]
  },
  {
   "cell_type": "code",
   "execution_count": 40,
   "metadata": {},
   "outputs": [
    {
     "name": "stdout",
     "output_type": "stream",
     "text": [
      "Digite o numero: 5\n",
      "120\n"
     ]
    }
   ],
   "source": [
    "n = int(input(\"Digite o numero: \"))\n",
    "fat = 1\n",
    "x = 1\n",
    "\n",
    "while x <= n:\n",
    "    fat *= x\n",
    "    x += 1\n",
    "    \n",
    "print(fat)"
   ]
  },
  {
   "cell_type": "code",
   "execution_count": 43,
   "metadata": {},
   "outputs": [
    {
     "name": "stdout",
     "output_type": "stream",
     "text": [
      "Digite o numero para ver o fibonacci: 5\n",
      "3\n"
     ]
    }
   ],
   "source": [
    "def fibonacci(n): \n",
    "    a = 0\n",
    "    b = 1\n",
    "    if n < 0: \n",
    "        print(\"Incorrect input\") \n",
    "    elif n == 0: \n",
    "        return a \n",
    "    elif n == 1: \n",
    "        return b \n",
    "    else: \n",
    "        for i in range(2,n): \n",
    "            c = a + b \n",
    "            a = b \n",
    "            b = c \n",
    "        return b \n",
    "n = int(input(\"Digite o numero para ver o fibonacci: \"))\n",
    "print(fibonacci(n)) "
   ]
  },
  {
   "cell_type": "code",
   "execution_count": 56,
   "metadata": {},
   "outputs": [
    {
     "name": "stdout",
     "output_type": "stream",
     "text": [
      "{1: 1.99, 2: 3.98, 3: 5.97, 4: 7.96, 5: 9.95, 6: 11.94, 7: 13.93, 8: 15.92, 9: 17.91, 10: 19.9, 11: 21.89, 12: 23.88, 13: 25.87, 14: 27.86, 15: 29.85, 16: 31.84, 17: 33.83, 18: 35.82, 19: 37.81, 20: 39.8, 21: 41.79, 22: 43.78, 23: 45.77, 24: 47.76, 25: 49.75, 26: 51.74, 27: 53.73, 28: 55.72, 29: 57.71, 30: 59.7, 31: 61.69, 32: 63.68, 33: 65.67, 34: 67.66, 35: 69.65, 36: 71.64, 37: 73.63, 38: 75.62, 39: 77.61, 40: 79.6, 41: 81.59, 42: 83.58, 43: 85.57, 44: 87.56, 45: 89.55, 46: 91.54, 47: 93.53, 48: 95.52, 49: 97.51, 50: 99.5}\n",
      "{1: 0.18, 2: 0.36, 3: 0.54, 4: 0.72, 5: 0.9, 6: 1.08, 7: 1.26, 8: 1.44, 9: 1.62, 10: 1.8, 11: 1.98, 12: 2.16, 13: 2.34, 14: 2.52, 15: 2.7, 16: 2.88, 17: 3.06, 18: 3.24, 19: 3.42, 20: 3.6, 21: 3.78, 22: 3.96, 23: 4.14, 24: 4.32, 25: 4.5, 26: 4.68, 27: 4.86, 28: 5.04, 29: 5.22, 30: 5.4, 31: 5.58, 32: 5.76, 33: 5.94, 34: 6.12, 35: 6.3, 36: 6.48, 37: 6.66, 38: 6.84, 39: 7.02, 40: 7.2, 41: 7.38, 42: 7.56, 43: 7.74, 44: 7.92, 45: 8.1, 46: 8.28, 47: 8.46, 48: 8.64, 49: 8.82, 50: 9.0}\n"
     ]
    }
   ],
   "source": [
    "def montar_tabela(preco_base):\n",
    "    tabela_precos = dict()\n",
    "    valor = preco_base\n",
    "    result = 0\n",
    "\n",
    "    for i in range(1, 51):\n",
    "        tabela_precos[i] = round((valor + result),2)\n",
    "        result += valor\n",
    "    return(tabela_precos)\n",
    "\n",
    "print(montar_tabela(1.99))\n",
    "print(montar_tabela(0.18))"
   ]
  },
  {
   "cell_type": "code",
   "execution_count": 59,
   "metadata": {},
   "outputs": [
    {
     "name": "stdout",
     "output_type": "stream",
     "text": [
      "Digite o valor de um produto: 8.8\n",
      "Digite o valor de um produto: 9\n",
      "Digite o valor de um produto: 10\n",
      "Digite o valor de um produto: 88\n",
      "Digite o valor de um produto: 0\n",
      "Total: 115.8\n",
      "Digite o valor recebido: 200\n",
      "Troco: 84.2\n"
     ]
    }
   ],
   "source": [
    "valor = \"\"\n",
    "produtos = dict()\n",
    "index = 1\n",
    "\n",
    "while valor != 0.0:\n",
    "    valor = float(input(\"Digite o valor de um produto: \"))\n",
    "    produtos[index] = valor\n",
    "    index +=1\n",
    "\n",
    "print(f\"Total: {sum(produtos.values())}\")\n",
    "print(f\"Produtos: {produtos}\")\n",
    "\n",
    "pagamento = float(input(\"Digite o valor recebido: \"))\n",
    "if pagamento - sum(produtos.values()) > 0:\n",
    "    print(f\"Troco: {pagamento - sum(produtos.values())}\")\n",
    "else:\n",
    "    print(\"Chama a policia\")\n",
    "\n"
   ]
  },
  {
   "cell_type": "code",
   "execution_count": 24,
   "metadata": {},
   "outputs": [
    {
     "name": "stdout",
     "output_type": "stream",
     "text": [
      "{'Menor': {'NOME': 'Bauru', 'Acidentes': 5}, 'Maior': {'NOME': 'Minas', 'Acidentes': 500}}\n",
      "2000.0\n",
      "252.5\n"
     ]
    }
   ],
   "source": [
    "ibge = {\n",
    "        1: {\"Nome\":\"Bauru\",\n",
    "           \"Acidentes\":5,\n",
    "           \"Veiculos\":2000\n",
    "           },\n",
    "        2: {\"Nome\":\"Minas\",\n",
    "           \"Acidentes\":500,\n",
    "           \"Veiculos\":2000\n",
    "           }\n",
    "       }\n",
    "\n",
    "acidentes_dict = dict()\n",
    "\n",
    "menor = ibge.get(1).get(\"Acidentes\")\n",
    "maior = ibge.get(1).get(\"Acidentes\")\n",
    "\n",
    "veiculos = 0\n",
    "acidentes_menor = 0\n",
    "count_acidentes_menor = 0\n",
    "\n",
    "for k, v in ibge.items():\n",
    "    veiculos += ibge[k].get(\"Veiculos\")\n",
    "    for item, desc in v.items():\n",
    "        if item == \"Acidentes\":\n",
    "            if desc <= menor:\n",
    "                acidentes_dict[\"Menor\"] = { \"NOME\":ibge[k].get(\"Nome\"), \"Acidentes\" : desc }\n",
    "            if desc >= maior:\n",
    "                acidentes_dict[\"Maior\"] = { \"NOME\":ibge[k].get(\"Nome\"), \"Acidentes\" : desc }\n",
    "        if item == \"Veiculos\" and desc <= 2000:\n",
    "            acidentes_menor += ibge[k].get(\"Acidentes\")\n",
    "            count_acidentes_menor +=1\n",
    "            \n",
    "\n",
    "print(acidentes_dict)\n",
    "print(veiculos/len(ibge.keys()))\n",
    "print(acidentes_menor/count_acidentes_menor)\n",
    "\n",
    "        "
   ]
  },
  {
   "cell_type": "code",
   "execution_count": 35,
   "metadata": {},
   "outputs": [
    {
     "name": "stdout",
     "output_type": "stream",
     "text": [
      "Digite o preco do produto: 100\n",
      "Digite o numero de parcelas 1/3/6/9/12: 3\n",
      "Divida: 110.0, Juros: 10.0, Parcelas: 3, Valor Parcela: 36.67\n"
     ]
    }
   ],
   "source": [
    "parcelas_juros = {1:0.0, 3:0.1, 6:0.15, 9:0.2, 12:0.25}\n",
    "\n",
    "preco_produto = float(input(\"Digite o preco do produto: \"))\n",
    "parcelas = int(input(\"Digite o numero de parcelas 1/3/6/9/12: \"))\n",
    "\n",
    "juros = preco_produto * parcelas_juros[parcelas]\n",
    "preco_final = preco_produto + juros\n",
    "\n",
    "valor_parcela = preco_final / parcelas\n",
    "\n",
    "print(f\"Divida: {preco_final}, Juros: {juros}, Parcelas: {parcelas}, Valor Parcela: {round(valor_parcela,2)}\")"
   ]
  }
 ],
 "metadata": {
  "kernelspec": {
   "display_name": "Python 3",
   "language": "python",
   "name": "python3"
  },
  "language_info": {
   "codemirror_mode": {
    "name": "ipython",
    "version": 3
   },
   "file_extension": ".py",
   "mimetype": "text/x-python",
   "name": "python",
   "nbconvert_exporter": "python",
   "pygments_lexer": "ipython3",
   "version": "3.6.7"
  }
 },
 "nbformat": 4,
 "nbformat_minor": 2
}
