{
 "cells": [
  {
   "cell_type": "markdown",
   "metadata": {},
   "source": [
    "Exercício 14\n",
    "Nome: Lucas Soriano Alves Duarte\n",
    "RA: 81714428"
   ]
  },
  {
   "cell_type": "markdown",
   "metadata": {},
   "source": [
    "\n",
    "1 Defina a função soma_nat que recebe como argumento um número natural n e devolve a soma de todos os números naturais até n.\n",
    "\n",
    "Ex: soma_nat(5) = 15"
   ]
  },
  {
   "cell_type": "code",
   "execution_count": 3,
   "metadata": {},
   "outputs": [
    {
     "name": "stdout",
     "output_type": "stream",
     "text": [
      "120\n",
      "O parametro não é um número inteiro\n",
      "O parametro não é um número inteiro\n",
      "O parametro não é um número inteiro\n"
     ]
    }
   ],
   "source": [
    "def maybe1(fnc):\n",
    "    def inner(*args):\n",
    "        \n",
    "        for a in args:\n",
    "            if isinstance(a, Exception):\n",
    "                return a\n",
    "        try:\n",
    "            return fnc(*args)\n",
    "        except Exception as e:\n",
    "            return 'O parametro não é um número inteiro'\n",
    "    return inner\n",
    "\n",
    "soma_nat = lambda n: 1 if n == 1 else n + soma_nat(n-1)\n",
    "safe_soma_nat = maybe1(soma_nat)\n",
    "\n",
    "\n",
    "print(safe_soma_nat(15))\n",
    "print(safe_soma_nat({}))\n",
    "print(safe_soma_nat(15.5555))\n",
    "print(safe_soma_nat([]))"
   ]
  },
  {
   "cell_type": "markdown",
   "metadata": {},
   "source": [
    "2 Defina a função div que recebe como argumentos dois números naturais m e n e devolve o resultado da divisão inteira de m por n. Neste exercício você não pode recorrer às operações aritméticas de multiplicação, divisão e resto da divisão inteira.\n",
    "\n",
    "Ex: div(7,2) = 3"
   ]
  },
  {
   "cell_type": "code",
   "execution_count": 9,
   "metadata": {},
   "outputs": [
    {
     "name": "stdout",
     "output_type": "stream",
     "text": [
      "3\n",
      "Pelo menos um dos paraametros não é um número válido\n",
      "Pelo menos um dos paraametros não é um número válido\n",
      "Pelo menos um dos paraametros não é um número válido\n"
     ]
    }
   ],
   "source": [
    "def maybe2(fnc):\n",
    "    def inner(*args):\n",
    "        \n",
    "        for a in args:\n",
    "            if isinstance(a, Exception):\n",
    "                return a\n",
    "        try:\n",
    "            return fnc(*args)\n",
    "        except Exception as e:\n",
    "            return 'Pelo menos um dos paraametros não é um número válido'\n",
    "    return inner\n",
    "\n",
    "div = lambda m,n,i=0: i if m < n else div(m-n,n,i+1) \n",
    "safe_div = maybe2(div)\n",
    "\n",
    "\n",
    "print(safe_div(7,2))\n",
    "print(safe_div(7,{}))\n",
    "print(safe_div('',{}))\n",
    "print(safe_div(7,))"
   ]
  },
  {
   "cell_type": "markdown",
   "metadata": {},
   "source": [
    "3 Defina a função prim_alg que recebe como argumento um número natural e devolve o primeiro algarismo (o mais significativo) na representação decimal de n.\n",
    "\n",
    "Ex: prim_alg(5649) = 5 Ex: prim_alg(7) = 7"
   ]
  },
  {
   "cell_type": "code",
   "execution_count": 12,
   "metadata": {},
   "outputs": [
    {
     "name": "stdout",
     "output_type": "stream",
     "text": [
      "5\n",
      "{\n",
      "Parametro inválido\n",
      "Parametro inválido\n"
     ]
    }
   ],
   "source": [
    "def maybe3(fnc):\n",
    "    \n",
    "    def inner(*args):\n",
    "        \n",
    "        for a in args:\n",
    "            if isinstance(a, Exception):\n",
    "                return a\n",
    "        try:\n",
    "            return fnc(*args)\n",
    "        except Exception as e:\n",
    "            return 'Parametro inválido'\n",
    "    return inner\n",
    "\n",
    "prim_alg = lambda n: str(n)[0]\n",
    "\n",
    "safe_prim_alg = maybe3(prim_alg)\n",
    "\n",
    "print(safe_prim_alg(5649))\n",
    "print(safe_prim_alg({}))\n",
    "print(safe_prim_alg())\n",
    "print(safe_prim_alg(''))"
   ]
  },
  {
   "cell_type": "markdown",
   "metadata": {},
   "source": [
    "4 Defina a função prod_lista que recebe como argumento uma lista de inteiros e devolve o produto dos seus elementos.\n",
    "\n",
    "Ex: prod_lista([1,2,3,4,5,6]) = 720"
   ]
  },
  {
   "cell_type": "code",
   "execution_count": 18,
   "metadata": {},
   "outputs": [
    {
     "name": "stdout",
     "output_type": "stream",
     "text": [
      "720\n"
     ]
    }
   ],
   "source": [
    "def maybe4(fnc):\n",
    "    \n",
    "    def inner(*args):\n",
    "        \n",
    "        for a in args:\n",
    "            if isinstance(a, Exception):\n",
    "                return a\n",
    "        try:\n",
    "            return fnc(*args)\n",
    "        except Exception as e:\n",
    "            return fnc(1,args[1])\n",
    "    return inner\n",
    "\n",
    "prod = lambda a,b: a*b\n",
    "safe_prod = maybe4(prod)\n",
    "safe_prod_lista = lambda lista: 1 if len(lista) == 0 else safe_prod(lista.pop(),safe_prod_lista(lista))\n",
    "\n",
    "print(safe_prod_lista([1,2,3,{},4,5,6]))"
   ]
  },
  {
   "cell_type": "markdown",
   "metadata": {},
   "source": [
    "\n",
    "5 Defina a função contem_parQ que recebe como argumento uma lista de números inteiros w e devolve True se w contém um número par e False em caso contrário.\n",
    "\n",
    "Ex: contem_parQ([2,3,1,2,3,4]) = True\n",
    "Ex: contem_parQ([1,3,5,7]) = False"
   ]
  },
  {
   "cell_type": "code",
   "execution_count": 22,
   "metadata": {},
   "outputs": [
    {
     "name": "stdout",
     "output_type": "stream",
     "text": [
      "True\n",
      "False\n",
      "False\n",
      "True\n"
     ]
    }
   ],
   "source": [
    "\n",
    "def maybe5(fnc):\n",
    "    \n",
    "    def inner(*args):\n",
    "        \n",
    "        for a in args:\n",
    "            if isinstance(a, Exception):\n",
    "                return a\n",
    "        try:\n",
    "            return fnc(*args)\n",
    "        except Exception as e:\n",
    "            return fnc([])\n",
    "    return inner\n",
    "\n",
    "contem_parQ = lambda w: False if len(w)==0 else True if w.pop()%2==0 else contem_parQ(w)\n",
    "safe_contem_parQ = maybe5(contem_parQ)\n",
    "\n",
    "\n",
    "print(safe_contem_parQ([2,3,1,2,3,4]))\n",
    "print(safe_contem_parQ([1,3,5,7]))\n",
    "\n",
    "print(safe_contem_parQ([1,3,5,{},7]))\n",
    "print(safe_contem_parQ([2,3,1,2,3,{},4]))"
   ]
  },
  {
   "cell_type": "markdown",
   "metadata": {},
   "source": [
    "\n",
    "6 Defina a função todos_imparesQ que recebe como argumento uma lista de números inteiros w e devolve True se w contém apenas números ímpares e False em caso contrário.\n",
    "\n",
    "Ex: todos_imparesQ([1,3,5,7]) = True\n",
    "Ex: todos_imparesQ([]) = True\n",
    "Ex: todos_imparesQ([1,2,3,4,5]) = False"
   ]
  },
  {
   "cell_type": "code",
   "execution_count": 26,
   "metadata": {},
   "outputs": [
    {
     "name": "stdout",
     "output_type": "stream",
     "text": [
      "True\n",
      "True\n",
      "False\n",
      "True\n",
      "False\n"
     ]
    }
   ],
   "source": [
    "def maybe6(fnc):\n",
    "    \n",
    "    def inner(*args):\n",
    "        \n",
    "        for a in args:\n",
    "            if isinstance(a, Exception):\n",
    "                return a\n",
    "        try:\n",
    "            return fnc(*args)\n",
    "        except Exception as e:\n",
    "            return fnc([])\n",
    "    return inner\n",
    "\n",
    "todos_imparesQ = lambda w: True if len(w) == 0 else False if w.pop()%2==0 else todos_imparesQ(w)\n",
    "safe_todos_imparesQ = maybe6(todos_imparesQ)\n",
    "\n",
    "print(safe_todos_imparesQ([1,3,5,7]))\n",
    "print(safe_todos_imparesQ([]))\n",
    "print(safe_todos_imparesQ([1,2,3,4,5]))\n",
    "\n",
    "print(safe_todos_imparesQ([1,3,5,{},7]))\n",
    "print(safe_todos_imparesQ([1,2,(),3,4,5]))"
   ]
  },
  {
   "cell_type": "markdown",
   "metadata": {},
   "source": [
    "7 Defina a função pertenceQ que recebe como argumentos uma lista de números inteiros w e um número inteiro n e devolve True se n ocorre em w e False em caso contrário.\n",
    "\n",
    "Ex: pertenceQ([1,2,3],1) = True\n",
    "Ex: pertenceQ([1,2,3],2) = True\n",
    "Ex: pertenceQ([1,2,3],3) = True\n",
    "Ex: pertenceQ([1,2,3],4) = False"
   ]
  },
  {
   "cell_type": "code",
   "execution_count": 30,
   "metadata": {},
   "outputs": [
    {
     "name": "stdout",
     "output_type": "stream",
     "text": [
      "True\n",
      "True\n",
      "True\n",
      "False\n",
      "Pelo menos um dos parametros esta faltando ou existe parametros à mais\n",
      "Pelo menos um dos parametros esta faltando ou existe parametros à mais\n"
     ]
    }
   ],
   "source": [
    "def maybe7(fnc):\n",
    "    \n",
    "    def inner(*args):\n",
    "        \n",
    "        for a in args:\n",
    "            if isinstance(a, Exception):\n",
    "                return a\n",
    "        try:\n",
    "            return fnc(*args)\n",
    "        except Exception as e:\n",
    "            return 'Pelo menos um dos parametros esta faltando ou existe parametros à mais'\n",
    "    return inner\n",
    "\n",
    "pertenceQ = lambda w,n: True if n in w else False \n",
    "safe_pertenceQ = maybe7(pertenceQ)\n",
    "\n",
    "print(safe_pertenceQ([1,2,{},3],{}))\n",
    "print(safe_pertenceQ([1,2,'',3],''))\n",
    "print(safe_pertenceQ([1,2,3],3))\n",
    "print(safe_pertenceQ([1,2,3],4))\n",
    "\n",
    "print(safe_pertenceQ([1,2,3]))\n",
    "print(safe_pertenceQ([1,2,3],2,1,2,2))"
   ]
  },
  {
   "cell_type": "markdown",
   "metadata": {},
   "source": [
    "8 Defina a função junta que recebe como argumentos duas listas de números inteiros w1 e w2 e devolve a concatenação de w1 com w2 .\n",
    "\n",
    "Ex: junta([1,2,3],[4,5,6]) = [1, 2, 3, 4, 5, 6]\n",
    "Ex: junta([],[4,5,6]) = [4, 5, 6]\n",
    "Ex: junta([1,2,3],[]) = [1, 2, 3]"
   ]
  },
  {
   "cell_type": "code",
   "execution_count": 34,
   "metadata": {},
   "outputs": [
    {
     "name": "stdout",
     "output_type": "stream",
     "text": [
      "[1, 2, 3, 4, 5, 6]\n",
      "[4, 5, 6]\n",
      "[1, 2, 3]\n",
      "Parametros inválidos\n",
      "Parametros inválidos\n",
      "Parametros inválidos\n"
     ]
    }
   ],
   "source": [
    "def maybe8(fnc):\n",
    "    \n",
    "    def inner(*args):\n",
    "        \n",
    "        for a in args:\n",
    "            if isinstance(a, Exception):\n",
    "                return a\n",
    "        try:\n",
    "            return fnc(*args)\n",
    "        except Exception as e:\n",
    "            return 'Parametros inválidos'\n",
    "    return inner\n",
    "\n",
    "junta_sep = lambda v, w: [v.append(i) for i in w]\n",
    "junta = lambda v, w: v if len(w) == 0 else w if len(v) == 0 else v if len(junta_sep(v, w)) == len(w) else v\n",
    "\n",
    "safe_junta = maybe8(junta)\n",
    "\n",
    "print(safe_junta([1,2,3],[4,5,6]))\n",
    "print(safe_junta([],[4,5,6]))\n",
    "print(safe_junta([1,2,3],[]))\n",
    "\n",
    "print(safe_junta([1,2,3]))\n",
    "print(safe_junta({}))\n",
    "print(safe_junta('lucao'))"
   ]
  },
  {
   "cell_type": "markdown",
   "metadata": {},
   "source": [
    "9 Defina a função temPrimoQ que recebe como argumento uma lista de listas de números inteiros w e devolve True se alguma das sublistas w tem um número primo e False em caso contrário.\n",
    "\n",
    "Ex: temPrimoQ([[4,4,4,4],[5,4,6,7],[2,4,3]]) = True\n",
    "Ex: temPrimoQ([[4,4,4,4],[4,4,4],[],[4]]) = False"
   ]
  },
  {
   "cell_type": "code",
   "execution_count": 38,
   "metadata": {},
   "outputs": [
    {
     "name": "stdout",
     "output_type": "stream",
     "text": [
      "Pelo menos um dos parametros esta faltando ou existe parametros à mais\n",
      "Pelo menos um dos parametros esta faltando ou existe parametros à mais\n",
      "True\n",
      "True\n",
      "False\n",
      "False\n",
      "True\n"
     ]
    }
   ],
   "source": [
    "def maybe9(fnc):\n",
    "    \n",
    "    def inner(*args):\n",
    "        \n",
    "        for a in args:\n",
    "            if isinstance(a, Exception):\n",
    "                return a\n",
    "        try:\n",
    "            return fnc(*args)\n",
    "        except Exception as e:\n",
    "            return 'Pelo menos um dos parametros esta faltando ou existe parametros à mais'\n",
    "    return inner\n",
    "\n",
    "primo = lambda n: len([i for i in range(2,n) if n%i==0])==0 \n",
    "extrai_lista = lambda w: None if len(w)==0 else w.pop()\n",
    "lista_primo = lambda v: False if v == None or len(v)==0 else True if primo(v.pop()) else lista_primo(v)\n",
    "temPrimoQ = lambda w: True if lista_primo(extrai_lista(w)) else False if len(w) == 0 else temPrimoQ(w)\n",
    "safe_temPrimoQ = maybe9(temPrimoQ)\n",
    "\n",
    "print(safe_temPrimoQ([[4,4,4,{},4],[5,4,6,7],[2,4,3],{}],''))\n",
    "print(safe_temPrimoQ())\n",
    "print(safe_temPrimoQ([[4,4,4,4],[5,(),6,7],[2,4,3],{}]))\n",
    "print(safe_temPrimoQ([[4,4,4,4],[5,4,6,7],[2,4,3],{}]))\n",
    "print(temPrimoQ([[4,4,4,4],[4,4,4],[],[4]]))\n",
    "print(temPrimoQ([[]]))\n",
    "print(temPrimoQ([[2]]))"
   ]
  },
  {
   "cell_type": "markdown",
   "metadata": {},
   "source": [
    "10 Defina a função inverteLista que recebe como argumento uma lista w e devolve a mesma lista mas invertida.\n",
    "\n",
    "Ex: inverteLista([1,2,3,4,5]) = [5, 4, 3, 2, 1]\n",
    "Ex: inverteLista([])"
   ]
  },
  {
   "cell_type": "code",
   "execution_count": 44,
   "metadata": {},
   "outputs": [
    {
     "name": "stdout",
     "output_type": "stream",
     "text": [
      "[5, 4, 3, 2, 1]\n",
      "Parametros inválidos\n",
      "()\n",
      "sacul\n"
     ]
    }
   ],
   "source": [
    "def maybe10(fnc):\n",
    "    \n",
    "    def inner(*args):\n",
    "        \n",
    "        for a in args:\n",
    "            if isinstance(a, Exception):\n",
    "                return a\n",
    "        try:\n",
    "            return fnc(*args)\n",
    "        except Exception as e:\n",
    "            return 'Parametros inválidos'\n",
    "    return inner\n",
    "\n",
    "inverteLista = lambda w: w[::-1]\n",
    "safe_inverteLista = maybe10(inverteLista)\n",
    "\n",
    "\n",
    "print(safe_inverteLista([1,2,3,4,5]))\n",
    "print(safe_inverteLista({}))\n",
    "print(safe_inverteLista(()))\n",
    "print(safe_inverteLista('lucas'))"
   ]
  }
 ],
 "metadata": {
  "kernelspec": {
   "display_name": "Python 3",
   "language": "python",
   "name": "python3"
  },
  "language_info": {
   "codemirror_mode": {
    "name": "ipython",
    "version": 3
   },
   "file_extension": ".py",
   "mimetype": "text/x-python",
   "name": "python",
   "nbconvert_exporter": "python",
   "pygments_lexer": "ipython3",
   "version": "3.6.7"
  }
 },
 "nbformat": 4,
 "nbformat_minor": 2
}
